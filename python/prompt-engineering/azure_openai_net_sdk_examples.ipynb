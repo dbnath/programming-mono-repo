{
 "cells": [
  {
   "cell_type": "markdown",
   "metadata": {},
   "source": [
    "# Azure OpenAI client library for .NET\n",
    "\n",
    "The Azure OpenAI client library for .NET is a companion to the official [OpenAI client library for .NET](https://github.com/openai/openai-dotnet). The Azure OpenAI library configures a client for use with Azure OpenAI and provides additional strongly typed extension support for request and response models specific to Azure OpenAI scenarios."
   ]
  },
  {
   "cell_type": "code",
   "execution_count": null,
   "metadata": {
    "dotnet_interactive": {
     "language": "csharp"
    },
    "polyglot_notebook": {
     "kernelName": "csharp"
    },
    "vscode": {
     "languageId": "polyglot-notebook"
    }
   },
   "outputs": [],
   "source": [
    "#r \"nuget:Azure.AI.OpenAI,2.0.0-beta.5\""
   ]
  },
  {
   "cell_type": "markdown",
   "metadata": {},
   "source": [
    "## Namespace organization\n",
    "The library is organized into several namespaces corresponding to OpenAI feature areas. Each namespace contains a corresponding client class.\n",
    "\n",
    "| Namespace          | Client class        | Notes          |\n",
    "|--------------------|---------------------|----------------|\n",
    "| OpenAI.Assistants  | AssistantClient     | [Experimental] |\n",
    "| OpenAI.Audio       | AudioClient         |                |\n",
    "| OpenAI.Batch       | BatchClient         | [Experimental]               |\n",
    "| OpenAI.Chat        | ChatClient          |                |\n",
    "| OpenAI.Embeddings  | EmbeddingClient     |                |\n",
    "| OpenAI.FineTuning  | FineTuningClient    |                |\n",
    "| OpenAI.Files       | FileClient          |                |\n",
    "| OpenAI.Images      | ImageClient         |                |\n",
    "| OpenAI.Models      | ModelClient         |                |\n",
    "| OpenAI.Moderations | ModerationClient    |                |\n",
    "| OpenAI.VectorStores| VectorStoreClient   | [Experimental] |"
   ]
  },
  {
   "cell_type": "markdown",
   "metadata": {},
   "source": [
    "Some funcions are marked as experimental, which means that they are not yet fully supported and may change in future releases."
   ]
  },
  {
   "cell_type": "code",
   "execution_count": 40,
   "metadata": {
    "dotnet_interactive": {
     "language": "csharp"
    },
    "polyglot_notebook": {
     "kernelName": "csharp"
    },
    "vscode": {
     "languageId": "polyglot-notebook"
    }
   },
   "outputs": [],
   "source": [
    "#pragma warning disable OPENAI001"
   ]
  },
  {
   "cell_type": "markdown",
   "metadata": {},
   "source": [
    "Here is an example of how to create Azure OpenAI client"
   ]
  },
  {
   "cell_type": "code",
   "execution_count": 41,
   "metadata": {
    "dotnet_interactive": {
     "language": "csharp"
    },
    "polyglot_notebook": {
     "kernelName": "csharp"
    },
    "vscode": {
     "languageId": "polyglot-notebook"
    }
   },
   "outputs": [],
   "source": [
    "using Azure.AI.OpenAI;\n",
    "\n",
    "AzureOpenAIClient azureClient = new(\n",
    "    new Uri(\"https://ai-proxy.lab.epam.com\"),\n",
    "    Environment.GetEnvironmentVariable(\"OPENAI_API_KEY\"));"
   ]
  },
  {
   "cell_type": "markdown",
   "metadata": {},
   "source": [
    "And Now lets test the client with a simple example"
   ]
  },
  {
   "cell_type": "code",
   "execution_count": null,
   "metadata": {
    "dotnet_interactive": {
     "language": "csharp"
    },
    "polyglot_notebook": {
     "kernelName": "csharp"
    },
    "vscode": {
     "languageId": "polyglot-notebook"
    }
   },
   "outputs": [],
   "source": [
    "using OpenAI.Chat;\n",
    "\n",
    "ChatClient chatClient = azureClient.GetChatClient(\"gpt-4o-2024-08-06\");\n",
    "ChatCompletion completion = await chatClient.CompleteChatAsync(\"Say 'this is a test.'\");\n",
    "\n",
    "completion"
   ]
  },
  {
   "cell_type": "markdown",
   "metadata": {},
   "source": [
    "So, now we are ready to test a bit complex example using chat client"
   ]
  },
  {
   "cell_type": "code",
   "execution_count": null,
   "metadata": {
    "dotnet_interactive": {
     "language": "csharp"
    },
    "polyglot_notebook": {
     "kernelName": "csharp"
    },
    "vscode": {
     "languageId": "polyglot-notebook"
    }
   },
   "outputs": [],
   "source": [
    "ChatCompletion completion = chatClient.CompleteChat(\n",
    "    [\n",
    "        // System messages represent instructions or other guidance about how the assistant should behave\n",
    "        new SystemChatMessage(\"You are a helpful assistant that talks like a computer geek.\"),\n",
    "        // User messages represent user input, whether historical or the most recen tinput\n",
    "        new UserChatMessage(\"Hi, can you help me?\"),\n",
    "        // Assistant messages in a request represent conversation history for responses\n",
    "        new AssistantChatMessage(\"You’ve got my full CPU power at your service. What’s the mission today?\"),\n",
    "        new UserChatMessage(\"What breaks your heart?\"),\n",
    "    ]);\n",
    "\n",
    "completion.Content[0].Text"
   ]
  },
  {
   "cell_type": "markdown",
   "metadata": {},
   "source": [
    "Now lets test client with streaming API  \n",
    "\n",
    "When you request a chat completion, the default behavior is for the server to generate it in its entirety before sending it back in a single response. Consequently, long chat completions can require waiting for several seconds before hearing back from the server. To mitigate this, the OpenAI REST API supports the ability to stream partial results back as they are being generated, allowing you to start processing the beginning of the completion before it is finished."
   ]
  },
  {
   "cell_type": "code",
   "execution_count": null,
   "metadata": {
    "dotnet_interactive": {
     "language": "csharp"
    },
    "polyglot_notebook": {
     "kernelName": "csharp"
    },
    "vscode": {
     "languageId": "polyglot-notebook"
    }
   },
   "outputs": [],
   "source": [
    "using System.ClientModel;\n",
    "\n",
    "CollectionResult<StreamingChatCompletionUpdate> updates = chatClient.CompleteChatStreaming(\"Say 'this is a test.'\");\n",
    "\n",
    "updates"
   ]
  },
  {
   "cell_type": "markdown",
   "metadata": {},
   "source": [
    "As you see we need to use a bit different approach for streamed responses."
   ]
  },
  {
   "cell_type": "code",
   "execution_count": null,
   "metadata": {
    "dotnet_interactive": {
     "language": "csharp"
    },
    "polyglot_notebook": {
     "kernelName": "csharp"
    },
    "vscode": {
     "languageId": "polyglot-notebook"
    }
   },
   "outputs": [],
   "source": [
    "CollectionResult<StreamingChatCompletionUpdate> updates = chatClient.CompleteChatStreaming(\"Say 'this is a test.'\");\n",
    "\n",
    "foreach (StreamingChatCompletionUpdate completionUpdate in updates)\n",
    "{\n",
    "    foreach (ChatMessageContentPart contentPart in completionUpdate.ContentUpdate)\n",
    "    {\n",
    "        Console.WriteLine(contentPart.Text);\n",
    "    }\n",
    "}"
   ]
  },
  {
   "cell_type": "markdown",
   "metadata": {},
   "source": [
    "### Text Embeddings\n",
    "\n",
    "Let's imagine you have a list of sentences and you want to find the most similar sentence to a given query. You can use the `EmbeddingClient` to get the embeddings of the sentences and then calculate the cosine similarity between the query and each sentence."
   ]
  },
  {
   "cell_type": "code",
   "execution_count": null,
   "metadata": {
    "dotnet_interactive": {
     "language": "csharp"
    },
    "polyglot_notebook": {
     "kernelName": "csharp"
    },
    "vscode": {
     "languageId": "polyglot-notebook"
    }
   },
   "outputs": [],
   "source": [
    "using OpenAI.Embeddings;\n",
    "\n",
    "EmbeddingClient embeddingsClient = azureClient.GetEmbeddingClient(\"text-embedding-ada-002\");\n",
    "\n",
    "string description = @\"Best hotel in town if you like luxury hotels. They have an amazing infinity pool, a spa,\n",
    "    and a really helpful concierge. The location is perfect -- right downtown, close to all the tourist\n",
    "    attractions. We highly recommend this hotel.\";\n",
    "\n",
    "Embedding embedding = embeddingsClient.GenerateEmbedding(description);\n",
    "ReadOnlyMemory<float> vector = embedding.Vector;\n",
    "\n",
    "vector"
   ]
  },
  {
   "cell_type": "markdown",
   "metadata": {},
   "source": [
    "### How to use chat completions with structured outputs\n",
    "\n",
    "Beginning with the gpt-4o-mini, gpt-4o-mini-2024-07-18, and gpt-4o-2024-08-06 model snapshots, structured outputs are available for both top-level response content and tool calls in the chat completion and assistants APIs.\n",
    "\n",
    "For information about the feature, see the [Structured Outputs guide](https://platform.openai.com/docs/guides/structured-outputs/introduction).\n"
   ]
  },
  {
   "cell_type": "code",
   "execution_count": null,
   "metadata": {
    "dotnet_interactive": {
     "language": "csharp"
    },
    "polyglot_notebook": {
     "kernelName": "csharp"
    },
    "vscode": {
     "languageId": "polyglot-notebook"
    }
   },
   "outputs": [],
   "source": [
    "using System.Text.Json;\n",
    "\n",
    "ChatCompletionOptions options = new()\n",
    "{\n",
    "    ResponseFormat = ChatResponseFormat.CreateJsonSchemaFormat(\n",
    "        name: \"math_reasoning\",\n",
    "        jsonSchema: BinaryData.FromString(\"\"\"\n",
    "            {\n",
    "                \"type\": \"object\",\n",
    "                \"properties\": {\n",
    "                \"steps\": {\n",
    "                    \"type\": \"array\",\n",
    "                    \"items\": {\n",
    "                    \"type\": \"object\",\n",
    "                    \"properties\": {\n",
    "                        \"explanation\": { \"type\": \"string\" },\n",
    "                        \"output\": { \"type\": \"string\" }\n",
    "                    },\n",
    "                    \"required\": [\"explanation\", \"output\"],\n",
    "                    \"additionalProperties\": false\n",
    "                    }\n",
    "                },\n",
    "                \"final_answer\": { \"type\": \"string\" }\n",
    "                },\n",
    "                \"required\": [\"steps\", \"final_answer\"],\n",
    "                \"additionalProperties\": false\n",
    "            }\n",
    "            \"\"\"),\n",
    "    strictSchemaEnabled: true)\n",
    "};\n",
    "\n",
    "ChatCompletion chatCompletion = await chatClient.CompleteChatAsync( [\"How can I solve 8x + 7 = -23?\"],  options);\n",
    "\n",
    "var structuredJson = JsonDocument.Parse(chatCompletion.ToString());\n",
    "        \n",
    "Console.WriteLine($\"Final answer: {structuredJson.RootElement.GetProperty(\"final_answer\").GetString()}\");\n",
    "Console.WriteLine(\"Reasoning steps:\");\n",
    "\n",
    "foreach (JsonElement stepElement in structuredJson.RootElement.GetProperty(\"steps\").EnumerateArray())\n",
    "{\n",
    "    Console.WriteLine($\"  - Explanation: {stepElement.GetProperty(\"explanation\").GetString()}\");\n",
    "    Console.WriteLine($\"    Output: {stepElement.GetProperty(\"output\")}\");\n",
    "}"
   ]
  },
  {
   "cell_type": "markdown",
   "metadata": {},
   "source": [
    "### TODO: Fix the code below"
   ]
  },
  {
   "cell_type": "code",
   "execution_count": null,
   "metadata": {
    "dotnet_interactive": {
     "language": "csharp"
    },
    "polyglot_notebook": {
     "kernelName": "csharp"
    },
    "vscode": {
     "languageId": "polyglot-notebook"
    }
   },
   "outputs": [],
   "source": [
    "using OpenAI.Images;\n",
    "\n",
    "ImageClient imageClient = azureClient.GetImageClient(\"dall-e-3\");\n",
    "\n",
    "string prompt = @\"The concept for a living room that blends Scandinavian simplicity with Japanese minimalism for\n",
    "     a serene and cozy atmosphere. It's a space that invites relaxation and mindfulness, with natural light\n",
    "     and fresh air. Using neutral tones, including colors like white, beige, gray, and black, that create a\n",
    "     sense of harmony. Featuring sleek wood furniture with clean lines and subtle curves to add warmth and\n",
    "     elegance. Plants and flowers in ceramic pots adding color and life to a space. They can serve as focal\n",
    "     points, creating a connection with nature. Soft textiles and cushions in organic fabrics adding comfort\n",
    "     and softness to a space. They can serve as accents, adding contrast and texture.\";\n",
    "\n",
    "ImageGenerationOptions options = new()\n",
    "{\n",
    "    Quality = GeneratedImageQuality.Standard,\n",
    "    Size = GeneratedImageSize.W256xH256,\n",
    "    Style = GeneratedImageStyle.Natural,\n",
    "    ResponseFormat = GeneratedImageFormat.Uri\n",
    "};\n",
    "\n",
    "GeneratedImage image = imageClient.GenerateImage(prompt, options);\n",
    "\n",
    "image.ImageUri"
   ]
  }
 ],
 "metadata": {
  "kernelspec": {
   "display_name": ".NET (C#)",
   "language": "C#",
   "name": ".net-csharp"
  },
  "language_info": {
   "codemirror_mode": {
    "name": "ipython",
    "version": 3
   },
   "file_extension": ".py",
   "mimetype": "text/x-python",
   "name": "python",
   "nbconvert_exporter": "python",
   "pygments_lexer": "ipython3",
   "version": "3.12.0"
  },
  "polyglot_notebook": {
   "kernelInfo": {
    "defaultKernelName": "csharp",
    "items": [
     {
      "aliases": [],
      "name": "csharp"
     }
    ]
   }
  }
 },
 "nbformat": 4,
 "nbformat_minor": 2
}
