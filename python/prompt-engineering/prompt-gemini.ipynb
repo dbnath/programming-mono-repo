{
 "cells": [
  {
   "cell_type": "code",
   "execution_count": 9,
   "id": "c4de9571",
   "metadata": {},
   "outputs": [],
   "source": [
    "from google import genai\n",
    "from dotenv import load_dotenv"
   ]
  },
  {
   "cell_type": "code",
   "execution_count": 10,
   "id": "95222e8e",
   "metadata": {},
   "outputs": [
    {
     "data": {
      "text/plain": [
       "True"
      ]
     },
     "execution_count": 10,
     "metadata": {},
     "output_type": "execute_result"
    }
   ],
   "source": [
    "load_dotenv()"
   ]
  },
  {
   "cell_type": "code",
   "execution_count": 11,
   "id": "cf249905",
   "metadata": {},
   "outputs": [
    {
     "name": "stdout",
     "output_type": "stream",
     "text": [
      "Yes, the student's solution is **correct**.\n",
      "\n",
      "Here's a breakdown of why each step is accurate:\n",
      "\n",
      "1.  **`2(x + 3) = 14`** (Original problem)\n",
      "2.  **`2x + 6 = 14`** (Correctly applied the distributive property: 2 * x and 2 * 3)\n",
      "3.  **`2x = 8`** (Correctly subtracted 6 from both sides of the equation to isolate the term with x)\n",
      "4.  **`x = 4`** (Correctly divided both sides by 2 to solve for x)\n",
      "\n",
      "The steps are logical, mathematically sound, and lead to the correct answer.\n"
     ]
    }
   ],
   "source": [
    "client = genai.Client()\n",
    "\n",
    "standart_prompt = \"\"\"\n",
    "Is the following student's solution to the math problem correct?\n",
    "\n",
    "Problem: Solve for x: 2(x + 3) = 14\n",
    "\n",
    "Student's solution:\n",
    "2(x + 3) = 14\n",
    "2x + 6 = 14\n",
    "2x = 8\n",
    "x = 4\n",
    "\n",
    "Is this correct?\n",
    "\"\"\"\n",
    "\n",
    "response = client.models.generate_content(\n",
    "    model=\"gemini-2.5-flash\",\n",
    "    contents=standart_prompt\n",
    ")\n",
    "print(response.text)"
   ]
  },
  {
   "cell_type": "code",
   "execution_count": 12,
   "id": "0b9468d1",
   "metadata": {},
   "outputs": [
    {
     "name": "stdout",
     "output_type": "stream",
     "text": [
      "Emerging protocols like A2A (Agent-to-Agent) aim to standardize dynamic tool discovery by enabling LLM agents to register and find capabilities seamlessly.\n",
      "\n",
      "This is crucial for fostering flexible, scalable, and autonomous agent interoperability, moving beyond rigid, predefined toolsets to dynamic, on-demand task execution.\n"
     ]
    }
   ],
   "source": [
    "client = genai.Client()\n",
    "\n",
    "standart_prompt = \"\"\"\n",
    "Which emerging protocols aim to standardize dynamic tool discovery for LLM agents, and why is this important?\n",
    "Take reference from the link: https://developers.googleblog.com/en/a2a-a-new-era-of-agent-interoperability/\n",
    "Answer in two lines\n",
    "\"\"\"\n",
    "\n",
    "response = client.models.generate_content(\n",
    "    model=\"gemini-2.5-flash\",\n",
    "    contents=standart_prompt\n",
    ")\n",
    "print(response.text)"
   ]
  }
 ],
 "metadata": {
  "kernelspec": {
   "display_name": ".venv",
   "language": "python",
   "name": "python3"
  },
  "language_info": {
   "codemirror_mode": {
    "name": "ipython",
    "version": 3
   },
   "file_extension": ".py",
   "mimetype": "text/x-python",
   "name": "python",
   "nbconvert_exporter": "python",
   "pygments_lexer": "ipython3",
   "version": "3.13.3"
  }
 },
 "nbformat": 4,
 "nbformat_minor": 5
}
