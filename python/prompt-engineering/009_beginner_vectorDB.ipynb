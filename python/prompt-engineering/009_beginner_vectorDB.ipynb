{
 "cells": [
  {
   "cell_type": "markdown",
   "id": "be0408d6",
   "metadata": {},
   "source": [
    "# Vector DB and similarity search"
   ]
  },
  {
   "cell_type": "markdown",
   "id": "d88806e7",
   "metadata": {},
   "source": [
    "Author: Pavel Agurov, pavel_agurov@epam.com"
   ]
  },
  {
   "cell_type": "markdown",
   "id": "5d4080ec",
   "metadata": {},
   "source": [
    "Based on previous notebooks we can extract plan text from the data source, split text into chunks and vectorize it. Next step is to find relevant chunks. \n",
    "\n",
    "Simplest way is just to check each chunk one by one, but if we have many chunks it takes long time and can't be good production solution. So we should use special search algoritms adapted for vectors. It can be for example k-NN or ANN. You can find details here https://sudhiryelikar.com/articles/109-understanding-similarity-search-and-vector-databases.\n",
    "\n",
    "There are special type of database where similarity search (i.e. cosin calculation) is integrated into database. Let's see how it works."
   ]
  },
  {
   "cell_type": "code",
   "execution_count": 1,
   "id": "c27bf7b8",
   "metadata": {},
   "outputs": [
    {
     "name": "stdout",
     "output_type": "stream",
     "text": [
      "Note: you may need to restart the kernel to use updated packages.\n"
     ]
    },
    {
     "name": "stderr",
     "output_type": "stream",
     "text": [
      "The system cannot find the path specified.\n"
     ]
    },
    {
     "name": "stdout",
     "output_type": "stream",
     "text": [
      "Note: you may need to restart the kernel to use updated packages.\n"
     ]
    },
    {
     "name": "stderr",
     "output_type": "stream",
     "text": [
      "The system cannot find the path specified.\n"
     ]
    },
    {
     "name": "stdout",
     "output_type": "stream",
     "text": [
      "Note: you may need to restart the kernel to use updated packages.\n"
     ]
    },
    {
     "name": "stderr",
     "output_type": "stream",
     "text": [
      "The system cannot find the path specified.\n"
     ]
    },
    {
     "name": "stdout",
     "output_type": "stream",
     "text": [
      "Note: you may need to restart the kernel to use updated packages.\n"
     ]
    },
    {
     "name": "stderr",
     "output_type": "stream",
     "text": [
      "The system cannot find the path specified.\n"
     ]
    },
    {
     "name": "stdout",
     "output_type": "stream",
     "text": [
      "Note: you may need to restart the kernel to use updated packages.\n"
     ]
    },
    {
     "name": "stderr",
     "output_type": "stream",
     "text": [
      "The system cannot find the path specified.\n",
      "The system cannot find the path specified.\n"
     ]
    },
    {
     "name": "stdout",
     "output_type": "stream",
     "text": [
      "Note: you may need to restart the kernel to use updated packages.\n"
     ]
    },
    {
     "name": "stderr",
     "output_type": "stream",
     "text": [
      "The system cannot find the path specified.\n"
     ]
    },
    {
     "name": "stdout",
     "output_type": "stream",
     "text": [
      "Note: you may need to restart the kernel to use updated packages.\n"
     ]
    }
   ],
   "source": [
    "%pip install openai > /dev/null\n",
    "%pip install tiktoken > /dev/null\n",
    "%pip install langchain > /dev/null\n",
    "%pip install langchain_openai > /dev/null\n",
    "%pip install langchain_core > /dev/null\n",
    "%pip install langchain_community > /dev/null\n",
    "%pip install langchain_text_splitters > /dev/null"
   ]
  },
  {
   "cell_type": "markdown",
   "id": "d25b7138",
   "metadata": {},
   "source": [
    "First we will create chunks as we did it before."
   ]
  },
  {
   "cell_type": "code",
   "execution_count": 1,
   "id": "1a5f2dbc",
   "metadata": {},
   "outputs": [
    {
     "name": "stdout",
     "output_type": "stream",
     "text": [
      "16\n"
     ]
    }
   ],
   "source": [
    "from langchain_community.document_loaders import PyPDFLoader\n",
    "\n",
    "file_path = \"data/epam-reports-results-for-third-quarter-2023-and-updates-full-year-outlook.pdf\"\n",
    "\n",
    "loader = PyPDFLoader(file_path)\n",
    "chunks = loader.load_and_split()\n",
    "print(len(chunks))"
   ]
  },
  {
   "cell_type": "markdown",
   "id": "78a1a85a",
   "metadata": {},
   "source": [
    "Please note - langchain return class Document and we can add our own metadata into dictionary. This metadata will be also uploaded into vector db and can be used later for search."
   ]
  },
  {
   "cell_type": "code",
   "execution_count": 2,
   "id": "2ecdaed1",
   "metadata": {},
   "outputs": [],
   "source": [
    "for chunk in chunks:\n",
    "    # just add a custom metadata field with the length of the page content\n",
    "    # no specific reason, just to show how to add custom metadata\n",
    "    chunk.metadata['custom'] = len(chunk.page_content)"
   ]
  },
  {
   "cell_type": "markdown",
   "id": "6c839677",
   "metadata": {},
   "source": [
    "We will need embedding model, let's use ADA from openAI."
   ]
  },
  {
   "cell_type": "code",
   "execution_count": 3,
   "id": "a110f314",
   "metadata": {},
   "outputs": [],
   "source": [
    "import os\n",
    "from langchain_openai.embeddings.azure import AzureOpenAIEmbeddings\n",
    "\n",
    "# your GPT key should be in OPENAI_API_KEY environment variable\n",
    "# from langchain_openai import OpenAIEmbeddings\n",
    "# embedding_model = OpenAIEmbeddings(\n",
    "#     model          =\"text-embedding-ada-002\",\n",
    "#     api_key        = os.environ['OPENAI_API_KEY'],\n",
    "# )\n",
    "\n",
    "embedding_model = AzureOpenAIEmbeddings(\n",
    "    model          =\"text-embedding-ada-002\",\n",
    "    api_key        = os.environ['OPENAI_API_KEY'],\n",
    "    azure_endpoint = \"https://ai-proxy.lab.epam.com\",\n",
    ")"
   ]
  },
  {
   "cell_type": "markdown",
   "id": "ec9fa9a0",
   "metadata": {},
   "source": [
    "We will use search_query variable to store our request."
   ]
  },
  {
   "cell_type": "code",
   "execution_count": 4,
   "id": "b9b94cdb",
   "metadata": {},
   "outputs": [],
   "source": [
    "search_query = \"financial results\""
   ]
  },
  {
   "cell_type": "markdown",
   "id": "f86db89d",
   "metadata": {},
   "source": [
    "Let's check cosine distance manually for all chunks (please note - a cosine distance is not equal to a euclidean distance, but order order can be the same if its normalized function)."
   ]
  },
  {
   "cell_type": "code",
   "execution_count": 9,
   "id": "ca689ec4",
   "metadata": {},
   "outputs": [
    {
     "name": "stdout",
     "output_type": "stream",
     "text": [
      "Index, Cosine, Euclidean\n",
      "0: 0.790, 0.647\n",
      "1: 0.817, 0.605\n",
      "2: 0.821, 0.598\n",
      "3: 0.812, 0.614\n",
      "4: 0.787, 0.653\n",
      "5: 0.753, 0.703\n",
      "6: 0.798, 0.635\n",
      "7: 0.821, 0.599\n",
      "8: 0.736, 0.727\n",
      "9: 0.802, 0.630\n",
      "10: 0.783, 0.660\n",
      "11: 0.794, 0.642\n",
      "12: 0.792, 0.645\n",
      "13: 0.800, 0.632\n",
      "14: 0.791, 0.646\n",
      "15: 0.794, 0.642\n"
     ]
    }
   ],
   "source": [
    "from sklearn.metrics.pairwise import cosine_similarity, euclidean_distances\n",
    "\n",
    "def distance_sentences(emd, s1, s2, distance):\n",
    "    v1 = emd.embed_documents([s1])[0]\n",
    "    v2 = emd.embed_documents([s2])[0]\n",
    "    return distance([v1], [v2])[0][0]\n",
    "\n",
    "print(\"Index, Cosine, Euclidean\")\n",
    "distance_array = []\n",
    "for chunk_index, chunk in enumerate(chunks):\n",
    "    cosine_distance = distance_sentences(embedding_model, chunk.page_content, search_query, cosine_similarity)\n",
    "    euclidean_distance = distance_sentences(embedding_model, chunk.page_content, search_query, euclidean_distances)\n",
    "    distance_array.append((chunk_index, cosine_distance, euclidean_distance))\n",
    "    print(f\"{chunk_index}: {cosine_distance:.3f}, {euclidean_distance:.3f}\")"
   ]
  },
  {
   "cell_type": "code",
   "execution_count": 20,
   "id": "9aa9d024",
   "metadata": {},
   "outputs": [
    {
     "name": "stdout",
     "output_type": "stream",
     "text": [
      "Sorted by cosine distance\n",
      "2: 0.821, 0.598\n",
      "7: 0.821, 0.599\n",
      "1: 0.817, 0.605\n",
      "3: 0.812, 0.614\n",
      "9: 0.802, 0.630\n",
      "13: 0.800, 0.632\n",
      "6: 0.798, 0.635\n",
      "15: 0.794, 0.642\n",
      "11: 0.794, 0.642\n",
      "12: 0.792, 0.645\n",
      "14: 0.791, 0.646\n",
      "0: 0.790, 0.647\n",
      "4: 0.787, 0.653\n",
      "10: 0.783, 0.660\n",
      "5: 0.753, 0.703\n",
      "8: 0.736, 0.727\n"
     ]
    }
   ],
   "source": [
    "# sort by cosine distance\n",
    "distance_array.sort(key=lambda x: x[1])\n",
    "distance_array.reverse()\n",
    "print(\"Sorted by cosine distance\")\n",
    "for index, cosine_distance, euclidean_distance in distance_array:\n",
    "    print(f\"{index}: {cosine_distance:.3f}, {euclidean_distance:.3f}\")"
   ]
  },
  {
   "cell_type": "code",
   "execution_count": 21,
   "id": "28150e55",
   "metadata": {},
   "outputs": [
    {
     "name": "stdout",
     "output_type": "stream",
     "text": [
      "Sorted by euclidean distance\n",
      "2: 0.821, 0.598\n",
      "7: 0.821, 0.599\n",
      "1: 0.817, 0.605\n",
      "3: 0.812, 0.614\n",
      "9: 0.802, 0.630\n",
      "13: 0.800, 0.632\n",
      "6: 0.798, 0.635\n",
      "15: 0.794, 0.642\n",
      "11: 0.794, 0.642\n",
      "12: 0.792, 0.645\n",
      "14: 0.791, 0.646\n",
      "0: 0.790, 0.647\n",
      "4: 0.787, 0.653\n",
      "10: 0.783, 0.660\n",
      "5: 0.753, 0.703\n",
      "8: 0.736, 0.727\n"
     ]
    }
   ],
   "source": [
    "# sort by euclidean distance\n",
    "distance_array.sort(key=lambda x: x[2])\n",
    "print(\"Sorted by euclidean distance\")\n",
    "\n",
    "for index, cosine_distance, euclidean_distance in distance_array:\n",
    "    print(f\"{index}: {cosine_distance:.3f}, {euclidean_distance:.3f}\")"
   ]
  },
  {
   "cell_type": "markdown",
   "id": "8fdbcb04",
   "metadata": {},
   "source": [
    "# FAISS\n",
    "\n",
    "In this example we will use FAISS (https://github.com/facebookresearch/faiss), but by langchain wrapper."
   ]
  },
  {
   "cell_type": "code",
   "execution_count": null,
   "id": "73fddd96",
   "metadata": {},
   "outputs": [],
   "source": [
    "# Please note that there is gpu faiss version available\n",
    "\n",
    "%pip install faiss-cpu > /dev/null"
   ]
  },
  {
   "cell_type": "code",
   "execution_count": 7,
   "id": "7a623cbe",
   "metadata": {},
   "outputs": [],
   "source": [
    "from langchain_community.vectorstores.faiss import FAISS\n",
    "\n",
    "vector_store = FAISS.from_documents(\n",
    "    documents = chunks,\n",
    "    embedding = embedding_model\n",
    ")"
   ]
  },
  {
   "cell_type": "code",
   "execution_count": 8,
   "id": "325630ba",
   "metadata": {},
   "outputs": [],
   "source": [
    "# we can save the vector store to disk\n",
    "\n",
    "VECTORDB_PERSIST_DIRECTORY = '.vector_store/FAISS'\n",
    "COLLECTION_NAME = 'data'\n",
    "vector_store.save_local(folder_path = VECTORDB_PERSIST_DIRECTORY, index_name= COLLECTION_NAME)"
   ]
  },
  {
   "cell_type": "code",
   "execution_count": 9,
   "id": "13cdb673",
   "metadata": {},
   "outputs": [],
   "source": [
    "# and load it back\n",
    "vector_store = FAISS.load_local(\n",
    "    folder_path = VECTORDB_PERSIST_DIRECTORY, \n",
    "    index_name= COLLECTION_NAME,\n",
    "    embeddings= embedding_model,\n",
    "    allow_dangerous_deserialization=True\n",
    ")"
   ]
  },
  {
   "cell_type": "markdown",
   "id": "a4e6a931",
   "metadata": {},
   "source": [
    "Now we can find relevant chunks (parameter k allows to define count of chunks)"
   ]
  },
  {
   "cell_type": "code",
   "execution_count": 32,
   "id": "4d3273b1",
   "metadata": {},
   "outputs": [
    {
     "name": "stdout",
     "output_type": "stream",
     "text": [
      "16\n",
      "Source page: data/epam-reports-results-for-third-quarter-2023-and-updates-full-year-outlook.pdf: 2 Score: 0.747\n",
      "Source page: data/epam-reports-results-for-third-quarter-2023-and-updates-full-year-outlook.pdf: 6 Score: 0.747\n",
      "Source page: data/epam-reports-results-for-third-quarter-2023-and-updates-full-year-outlook.pdf: 1 Score: 0.741\n",
      "Source page: data/epam-reports-results-for-third-quarter-2023-and-updates-full-year-outlook.pdf: 3 Score: 0.734\n",
      "Source page: data/epam-reports-results-for-third-quarter-2023-and-updates-full-year-outlook.pdf: 8 Score: 0.720\n",
      "Source page: data/epam-reports-results-for-third-quarter-2023-and-updates-full-year-outlook.pdf: 13 Score: 0.718\n",
      "Source page: data/epam-reports-results-for-third-quarter-2023-and-updates-full-year-outlook.pdf: 6 Score: 0.715\n",
      "Source page: data/epam-reports-results-for-third-quarter-2023-and-updates-full-year-outlook.pdf: 15 Score: 0.709\n",
      "Source page: data/epam-reports-results-for-third-quarter-2023-and-updates-full-year-outlook.pdf: 11 Score: 0.709\n",
      "Source page: data/epam-reports-results-for-third-quarter-2023-and-updates-full-year-outlook.pdf: 12 Score: 0.706\n",
      "Source page: data/epam-reports-results-for-third-quarter-2023-and-updates-full-year-outlook.pdf: 14 Score: 0.705\n",
      "Source page: data/epam-reports-results-for-third-quarter-2023-and-updates-full-year-outlook.pdf: 0 Score: 0.704\n",
      "Source page: data/epam-reports-results-for-third-quarter-2023-and-updates-full-year-outlook.pdf: 4 Score: 0.698\n",
      "Source page: data/epam-reports-results-for-third-quarter-2023-and-updates-full-year-outlook.pdf: 10 Score: 0.692\n",
      "Source page: data/epam-reports-results-for-third-quarter-2023-and-updates-full-year-outlook.pdf: 5 Score: 0.650\n",
      "Source page: data/epam-reports-results-for-third-quarter-2023-and-updates-full-year-outlook.pdf: 7 Score: 0.627\n"
     ]
    }
   ],
   "source": [
    "search_results = vector_store.similarity_search_with_relevance_scores(\n",
    "    query = search_query,\n",
    "    k     = 20,  # number of results to return\n",
    ")\n",
    "\n",
    "print(len(search_results))\n",
    "for search_result_item in search_results:\n",
    "    print(f\"Source page: {search_result_item[0].metadata['source']}: {search_result_item[0].metadata['page']} Score: {search_result_item[1]:.3f}\")"
   ]
  },
  {
   "cell_type": "markdown",
   "id": "fe541ac7",
   "metadata": {},
   "source": [
    "We can define a score threshold to have only relevant results."
   ]
  },
  {
   "cell_type": "code",
   "execution_count": 28,
   "id": "d1acc991",
   "metadata": {},
   "outputs": [
    {
     "name": "stdout",
     "output_type": "stream",
     "text": [
      "Results with score above 0.73 [4]:\n",
      "Source page: data/epam-reports-results-for-third-quarter-2023-and-updates-full-year-outlook.pdf: 2 Score: 0.747\n",
      "\n",
      "Source page: data/epam-reports-results-for-third-quarter-2023-and-updates-full-year-outlook.pdf: 6 Score: 0.747\n",
      "\n",
      "Source page: data/epam-reports-results-for-third-quarter-2023-and-updates-full-year-outlook.pdf: 1 Score: 0.741\n",
      "\n",
      "Source page: data/epam-reports-results-for-third-quarter-2023-and-updates-full-year-outlook.pdf: 3 Score: 0.734\n",
      "\n"
     ]
    }
   ],
   "source": [
    "score_threshold = 0.73\n",
    "\n",
    "relevence_search_results = [search_result_item for search_result_item in search_results if search_result_item[1] > score_threshold]\n",
    "\n",
    "print(f\"Results with score above {score_threshold} [{len(relevence_search_results)}]:\")\n",
    "for search_result_item in relevence_search_results:\n",
    "    print(f\"Source page: {search_result_item[0].metadata['source']}: {search_result_item[0].metadata['page']} Score: {search_result_item[1]:.3f}\")\n",
    "    print()\n"
   ]
  },
  {
   "cell_type": "markdown",
   "id": "5ae073c2",
   "metadata": {},
   "source": [
    "If we have more than one document we can add simple filter by document name."
   ]
  },
  {
   "cell_type": "code",
   "execution_count": 36,
   "id": "6a7fc1bd",
   "metadata": {},
   "outputs": [
    {
     "name": "stdout",
     "output_type": "stream",
     "text": [
      "16\n",
      "Source page: data/epam-reports-results-for-third-quarter-2023-and-updates-full-year-outlook.pdf: 2 Score: 0.747\n",
      "Source page: data/epam-reports-results-for-third-quarter-2023-and-updates-full-year-outlook.pdf: 6 Score: 0.747\n",
      "Source page: data/epam-reports-results-for-third-quarter-2023-and-updates-full-year-outlook.pdf: 1 Score: 0.741\n",
      "Source page: data/epam-reports-results-for-third-quarter-2023-and-updates-full-year-outlook.pdf: 3 Score: 0.734\n",
      "Source page: data/epam-reports-results-for-third-quarter-2023-and-updates-full-year-outlook.pdf: 8 Score: 0.720\n",
      "Source page: data/epam-reports-results-for-third-quarter-2023-and-updates-full-year-outlook.pdf: 13 Score: 0.718\n",
      "Source page: data/epam-reports-results-for-third-quarter-2023-and-updates-full-year-outlook.pdf: 6 Score: 0.715\n",
      "Source page: data/epam-reports-results-for-third-quarter-2023-and-updates-full-year-outlook.pdf: 15 Score: 0.709\n",
      "Source page: data/epam-reports-results-for-third-quarter-2023-and-updates-full-year-outlook.pdf: 11 Score: 0.709\n",
      "Source page: data/epam-reports-results-for-third-quarter-2023-and-updates-full-year-outlook.pdf: 12 Score: 0.706\n",
      "Source page: data/epam-reports-results-for-third-quarter-2023-and-updates-full-year-outlook.pdf: 14 Score: 0.705\n",
      "Source page: data/epam-reports-results-for-third-quarter-2023-and-updates-full-year-outlook.pdf: 0 Score: 0.704\n",
      "Source page: data/epam-reports-results-for-third-quarter-2023-and-updates-full-year-outlook.pdf: 4 Score: 0.698\n",
      "Source page: data/epam-reports-results-for-third-quarter-2023-and-updates-full-year-outlook.pdf: 10 Score: 0.692\n",
      "Source page: data/epam-reports-results-for-third-quarter-2023-and-updates-full-year-outlook.pdf: 5 Score: 0.650\n",
      "Source page: data/epam-reports-results-for-third-quarter-2023-and-updates-full-year-outlook.pdf: 7 Score: 0.627\n"
     ]
    }
   ],
   "source": [
    "search_results = vector_store.similarity_search_with_relevance_scores(\n",
    "    query = search_query,\n",
    "    k     = 20,  # number of results to return\n",
    "    filter = {\"source\": 'data/epam-reports-results-for-third-quarter-2023-and-updates-full-year-outlook.pdf'}\n",
    ")\n",
    "\n",
    "print(len(search_results))\n",
    "for search_result_item in search_results:\n",
    "    print(f\"Source page: {search_result_item[0].metadata['source']}: {search_result_item[0].metadata['page']} Score: {search_result_item[1]:.3f}\")"
   ]
  },
  {
   "cell_type": "markdown",
   "id": "d3e90468",
   "metadata": {},
   "source": [
    "We can also add filter as function. In this case we can add any filter by metadata."
   ]
  },
  {
   "cell_type": "code",
   "execution_count": 37,
   "id": "abdfcf1a",
   "metadata": {},
   "outputs": [
    {
     "name": "stdout",
     "output_type": "stream",
     "text": [
      "10\n",
      "Source page: data/epam-reports-results-for-third-quarter-2023-and-updates-full-year-outlook.pdf: 6 Score: 0.747\n",
      "Source page: data/epam-reports-results-for-third-quarter-2023-and-updates-full-year-outlook.pdf: 8 Score: 0.720\n",
      "Source page: data/epam-reports-results-for-third-quarter-2023-and-updates-full-year-outlook.pdf: 13 Score: 0.718\n",
      "Source page: data/epam-reports-results-for-third-quarter-2023-and-updates-full-year-outlook.pdf: 6 Score: 0.715\n",
      "Source page: data/epam-reports-results-for-third-quarter-2023-and-updates-full-year-outlook.pdf: 15 Score: 0.709\n",
      "Source page: data/epam-reports-results-for-third-quarter-2023-and-updates-full-year-outlook.pdf: 11 Score: 0.709\n",
      "Source page: data/epam-reports-results-for-third-quarter-2023-and-updates-full-year-outlook.pdf: 12 Score: 0.706\n",
      "Source page: data/epam-reports-results-for-third-quarter-2023-and-updates-full-year-outlook.pdf: 14 Score: 0.705\n",
      "Source page: data/epam-reports-results-for-third-quarter-2023-and-updates-full-year-outlook.pdf: 10 Score: 0.692\n",
      "Source page: data/epam-reports-results-for-third-quarter-2023-and-updates-full-year-outlook.pdf: 7 Score: 0.627\n"
     ]
    }
   ],
   "source": [
    "def filter_function(doc_metadata):\n",
    "    filter_by_doc_page = doc_metadata.get('page') > 5\n",
    "    return filter_by_doc_page\n",
    "\n",
    "search_results = vector_store.similarity_search_with_relevance_scores(\n",
    "    query = search_query,\n",
    "    k = 20,\n",
    "    filter = filter_function\n",
    ")\n",
    "\n",
    "print(len(search_results))\n",
    "for search_result_item in search_results:\n",
    "    print(f\"Source page: {search_result_item[0].metadata['source']}: {search_result_item[0].metadata['page']} Score: {search_result_item[1]:.3f}\")"
   ]
  },
  {
   "cell_type": "markdown",
   "id": "761af4c8",
   "metadata": {},
   "source": [
    "# Qdrant\n",
    "\n",
    "Qdrant is one more vector db (https://qdrant.tech/qdrant-vector-database/)"
   ]
  },
  {
   "cell_type": "code",
   "execution_count": 14,
   "id": "6d86ef2a",
   "metadata": {},
   "outputs": [
    {
     "name": "stdout",
     "output_type": "stream",
     "text": [
      "Requirement already satisfied: langchain-qdrant in d:\\anaconda3\\lib\\site-packages (0.1.1)\n",
      "Requirement already satisfied: langchain-core<0.3,>=0.1.52 in d:\\anaconda3\\lib\\site-packages (from langchain-qdrant) (0.2.11)\n",
      "Requirement already satisfied: qdrant-client<2.0.0,>=1.9.0 in d:\\anaconda3\\lib\\site-packages (from langchain-qdrant) (1.10.0)\n",
      "Requirement already satisfied: PyYAML>=5.3 in d:\\anaconda3\\lib\\site-packages (from langchain-core<0.3,>=0.1.52->langchain-qdrant) (6.0)\n",
      "Requirement already satisfied: jsonpatch<2.0,>=1.33 in d:\\anaconda3\\lib\\site-packages (from langchain-core<0.3,>=0.1.52->langchain-qdrant) (1.33)\n",
      "Requirement already satisfied: langsmith<0.2.0,>=0.1.75 in d:\\anaconda3\\lib\\site-packages (from langchain-core<0.3,>=0.1.52->langchain-qdrant) (0.1.83)\n",
      "Requirement already satisfied: packaging<25,>=23.2 in d:\\anaconda3\\lib\\site-packages (from langchain-core<0.3,>=0.1.52->langchain-qdrant) (23.2)\n",
      "Requirement already satisfied: pydantic<3,>=1 in d:\\anaconda3\\lib\\site-packages (from langchain-core<0.3,>=0.1.52->langchain-qdrant) (1.10.17)\n",
      "Requirement already satisfied: tenacity!=8.4.0,<9.0.0,>=8.1.0 in d:\\anaconda3\\lib\\site-packages (from langchain-core<0.3,>=0.1.52->langchain-qdrant) (8.2.3)\n",
      "Requirement already satisfied: grpcio>=1.41.0 in d:\\anaconda3\\lib\\site-packages (from qdrant-client<2.0.0,>=1.9.0->langchain-qdrant) (1.63.0)\n",
      "Requirement already satisfied: grpcio-tools>=1.41.0 in d:\\anaconda3\\lib\\site-packages (from qdrant-client<2.0.0,>=1.9.0->langchain-qdrant) (1.64.1)\n",
      "Requirement already satisfied: httpx>=0.20.0 in d:\\anaconda3\\lib\\site-packages (from httpx[http2]>=0.20.0->qdrant-client<2.0.0,>=1.9.0->langchain-qdrant) (0.26.0)\n",
      "Requirement already satisfied: numpy>=1.21 in d:\\anaconda3\\lib\\site-packages (from qdrant-client<2.0.0,>=1.9.0->langchain-qdrant) (1.24.3)\n",
      "Requirement already satisfied: portalocker<3.0.0,>=2.7.0 in d:\\anaconda3\\lib\\site-packages (from qdrant-client<2.0.0,>=1.9.0->langchain-qdrant) (2.8.2)\n",
      "Requirement already satisfied: urllib3<3,>=1.26.14 in d:\\anaconda3\\lib\\site-packages (from qdrant-client<2.0.0,>=1.9.0->langchain-qdrant) (2.1.0)\n",
      "Requirement already satisfied: protobuf<6.0dev,>=5.26.1 in d:\\anaconda3\\lib\\site-packages (from grpcio-tools>=1.41.0->qdrant-client<2.0.0,>=1.9.0->langchain-qdrant) (5.27.2)\n",
      "Collecting grpcio>=1.41.0 (from qdrant-client<2.0.0,>=1.9.0->langchain-qdrant)\n",
      "  Using cached grpcio-1.64.1-cp311-cp311-win_amd64.whl.metadata (3.4 kB)\n",
      "Requirement already satisfied: setuptools in d:\\anaconda3\\lib\\site-packages (from grpcio-tools>=1.41.0->qdrant-client<2.0.0,>=1.9.0->langchain-qdrant) (68.0.0)\n",
      "Requirement already satisfied: anyio in d:\\anaconda3\\lib\\site-packages (from httpx>=0.20.0->httpx[http2]>=0.20.0->qdrant-client<2.0.0,>=1.9.0->langchain-qdrant) (3.5.0)\n",
      "Requirement already satisfied: certifi in d:\\anaconda3\\lib\\site-packages (from httpx>=0.20.0->httpx[http2]>=0.20.0->qdrant-client<2.0.0,>=1.9.0->langchain-qdrant) (2023.11.17)\n",
      "Requirement already satisfied: httpcore==1.* in d:\\anaconda3\\lib\\site-packages (from httpx>=0.20.0->httpx[http2]>=0.20.0->qdrant-client<2.0.0,>=1.9.0->langchain-qdrant) (1.0.2)\n",
      "Requirement already satisfied: idna in d:\\anaconda3\\lib\\site-packages (from httpx>=0.20.0->httpx[http2]>=0.20.0->qdrant-client<2.0.0,>=1.9.0->langchain-qdrant) (3.4)\n",
      "Requirement already satisfied: sniffio in d:\\anaconda3\\lib\\site-packages (from httpx>=0.20.0->httpx[http2]>=0.20.0->qdrant-client<2.0.0,>=1.9.0->langchain-qdrant) (1.2.0)\n",
      "Requirement already satisfied: h11<0.15,>=0.13 in d:\\anaconda3\\lib\\site-packages (from httpcore==1.*->httpx>=0.20.0->httpx[http2]>=0.20.0->qdrant-client<2.0.0,>=1.9.0->langchain-qdrant) (0.14.0)\n",
      "Requirement already satisfied: h2<5,>=3 in d:\\anaconda3\\lib\\site-packages (from httpx[http2]>=0.20.0->qdrant-client<2.0.0,>=1.9.0->langchain-qdrant) (4.1.0)\n",
      "Requirement already satisfied: jsonpointer>=1.9 in d:\\anaconda3\\lib\\site-packages (from jsonpatch<2.0,>=1.33->langchain-core<0.3,>=0.1.52->langchain-qdrant) (2.1)\n",
      "Requirement already satisfied: orjson<4.0.0,>=3.9.14 in d:\\anaconda3\\lib\\site-packages (from langsmith<0.2.0,>=0.1.75->langchain-core<0.3,>=0.1.52->langchain-qdrant) (3.9.15)\n",
      "Requirement already satisfied: requests<3,>=2 in d:\\anaconda3\\lib\\site-packages (from langsmith<0.2.0,>=0.1.75->langchain-core<0.3,>=0.1.52->langchain-qdrant) (2.31.0)\n",
      "Requirement already satisfied: pywin32>=226 in d:\\anaconda3\\lib\\site-packages (from portalocker<3.0.0,>=2.7.0->qdrant-client<2.0.0,>=1.9.0->langchain-qdrant) (305.1)\n",
      "Requirement already satisfied: typing-extensions>=4.2.0 in d:\\anaconda3\\lib\\site-packages (from pydantic<3,>=1->langchain-core<0.3,>=0.1.52->langchain-qdrant) (4.9.0)\n",
      "Requirement already satisfied: hyperframe<7,>=6.0 in d:\\anaconda3\\lib\\site-packages (from h2<5,>=3->httpx[http2]>=0.20.0->qdrant-client<2.0.0,>=1.9.0->langchain-qdrant) (6.0.1)\n",
      "Requirement already satisfied: hpack<5,>=4.0 in d:\\anaconda3\\lib\\site-packages (from h2<5,>=3->httpx[http2]>=0.20.0->qdrant-client<2.0.0,>=1.9.0->langchain-qdrant) (4.0.0)\n",
      "Requirement already satisfied: charset-normalizer<4,>=2 in d:\\anaconda3\\lib\\site-packages (from requests<3,>=2->langsmith<0.2.0,>=0.1.75->langchain-core<0.3,>=0.1.52->langchain-qdrant) (3.3.2)\n",
      "Using cached grpcio-1.64.1-cp311-cp311-win_amd64.whl (4.1 MB)\n",
      "Installing collected packages: grpcio\n",
      "  Attempting uninstall: grpcio\n",
      "    Found existing installation: grpcio 1.63.0\n",
      "    Uninstalling grpcio-1.63.0:\n",
      "      Successfully uninstalled grpcio-1.63.0\n",
      "Successfully installed grpcio-1.64.1\n",
      "Note: you may need to restart the kernel to use updated packages.\n"
     ]
    },
    {
     "name": "stderr",
     "output_type": "stream",
     "text": [
      "  WARNING: Failed to remove contents in a temporary directory 'C:\\DiskD\\Anaconda3\\Lib\\site-packages\\~rpc'.\n",
      "  You can safely remove it manually.\n",
      "ERROR: pip's dependency resolver does not currently take into account all the packages that are installed. This behaviour is the source of the following dependency conflicts.\n",
      "grpc-google-iam-v1 0.13.0 requires protobuf!=3.20.0,!=3.20.1,!=4.21.1,!=4.21.2,!=4.21.3,!=4.21.4,!=4.21.5,<5.0.0dev,>=3.19.5, but you have protobuf 5.27.2 which is incompatible.\n",
      "pymilvus 2.4.4 requires grpcio<=1.63.0,>=1.49.1, but you have grpcio 1.64.1 which is incompatible.\n",
      "tensorboard 2.15.1 requires protobuf<4.24,>=3.19.6, but you have protobuf 5.27.2 which is incompatible.\n",
      "tensorflow-intel 2.15.0 requires protobuf!=4.21.0,!=4.21.1,!=4.21.2,!=4.21.3,!=4.21.4,!=4.21.5,<5.0.0dev,>=3.20.3, but you have protobuf 5.27.2 which is incompatible.\n"
     ]
    }
   ],
   "source": [
    "%pip install langchain-qdrant"
   ]
  },
  {
   "cell_type": "code",
   "execution_count": 16,
   "id": "1d6ed6bb",
   "metadata": {},
   "outputs": [],
   "source": [
    "from langchain_community.vectorstores import Qdrant\n",
    "\n",
    "vector_store = Qdrant.from_documents(\n",
    "    chunks,\n",
    "    embedding_model,\n",
    "    location=\":memory:\",  # Local mode with in-memory storage only\n",
    "    collection_name=\"my_documents\",\n",
    ")\n",
    "\n",
    "# we can also create a Qdrant index with a persistent storage\n",
    "# qdrant = Qdrant.from_documents(\n",
    "#     chunks,\n",
    "#     embedding_model,\n",
    "#     path = ...,\n",
    "#     collection_name= \"my_documents\",\n",
    "#     force_recreate=True\n",
    "# )      \n"
   ]
  },
  {
   "cell_type": "code",
   "execution_count": 66,
   "id": "9293aee8",
   "metadata": {},
   "outputs": [
    {
     "name": "stdout",
     "output_type": "stream",
     "text": [
      "16\n",
      "Source page: data/epam-reports-results-for-third-quarter-2023-and-updates-full-year-outlook.pdf: 2 Score: 0.821\n",
      "Source page: data/epam-reports-results-for-third-quarter-2023-and-updates-full-year-outlook.pdf: 6 Score: 0.821\n",
      "Source page: data/epam-reports-results-for-third-quarter-2023-and-updates-full-year-outlook.pdf: 1 Score: 0.817\n",
      "Source page: data/epam-reports-results-for-third-quarter-2023-and-updates-full-year-outlook.pdf: 3 Score: 0.812\n",
      "Source page: data/epam-reports-results-for-third-quarter-2023-and-updates-full-year-outlook.pdf: 8 Score: 0.802\n",
      "Source page: data/epam-reports-results-for-third-quarter-2023-and-updates-full-year-outlook.pdf: 13 Score: 0.800\n",
      "Source page: data/epam-reports-results-for-third-quarter-2023-and-updates-full-year-outlook.pdf: 6 Score: 0.798\n",
      "Source page: data/epam-reports-results-for-third-quarter-2023-and-updates-full-year-outlook.pdf: 15 Score: 0.794\n",
      "Source page: data/epam-reports-results-for-third-quarter-2023-and-updates-full-year-outlook.pdf: 11 Score: 0.794\n",
      "Source page: data/epam-reports-results-for-third-quarter-2023-and-updates-full-year-outlook.pdf: 12 Score: 0.792\n",
      "Source page: data/epam-reports-results-for-third-quarter-2023-and-updates-full-year-outlook.pdf: 14 Score: 0.791\n",
      "Source page: data/epam-reports-results-for-third-quarter-2023-and-updates-full-year-outlook.pdf: 0 Score: 0.790\n",
      "Source page: data/epam-reports-results-for-third-quarter-2023-and-updates-full-year-outlook.pdf: 4 Score: 0.787\n",
      "Source page: data/epam-reports-results-for-third-quarter-2023-and-updates-full-year-outlook.pdf: 10 Score: 0.782\n",
      "Source page: data/epam-reports-results-for-third-quarter-2023-and-updates-full-year-outlook.pdf: 5 Score: 0.753\n",
      "Source page: data/epam-reports-results-for-third-quarter-2023-and-updates-full-year-outlook.pdf: 7 Score: 0.736\n"
     ]
    }
   ],
   "source": [
    "search_results = vector_store.similarity_search_with_score(\n",
    "    query = search_query,\n",
    "    k = 20\n",
    ")\n",
    "\n",
    "print(len(search_results))\n",
    "for search_result_item in search_results:\n",
    "    print(f\"Source page: {search_result_item[0].metadata['source']}: {search_result_item[0].metadata['page']} Score: {search_result_item[1]:.3f}\")"
   ]
  },
  {
   "cell_type": "markdown",
   "id": "b08f4af0",
   "metadata": {},
   "source": [
    "With QDrant we can use score_threshold parameter directly in similarity_search_with_score call."
   ]
  },
  {
   "cell_type": "code",
   "execution_count": 26,
   "id": "62277250",
   "metadata": {},
   "outputs": [
    {
     "name": "stdout",
     "output_type": "stream",
     "text": [
      "6\n",
      "Source page: data/epam-reports-results-for-third-quarter-2023-and-updates-full-year-outlook.pdf: 2 Score: 0.821\n",
      "Source page: data/epam-reports-results-for-third-quarter-2023-and-updates-full-year-outlook.pdf: 6 Score: 0.821\n",
      "Source page: data/epam-reports-results-for-third-quarter-2023-and-updates-full-year-outlook.pdf: 1 Score: 0.817\n",
      "Source page: data/epam-reports-results-for-third-quarter-2023-and-updates-full-year-outlook.pdf: 3 Score: 0.812\n",
      "Source page: data/epam-reports-results-for-third-quarter-2023-and-updates-full-year-outlook.pdf: 8 Score: 0.802\n",
      "Source page: data/epam-reports-results-for-third-quarter-2023-and-updates-full-year-outlook.pdf: 13 Score: 0.800\n"
     ]
    }
   ],
   "source": [
    "score_threshold = 0.80\n",
    "\n",
    "search_results = vector_store.similarity_search_with_score(\n",
    "    query = search_query, \n",
    "    k     = 20, \n",
    "    score_threshold = score_threshold\n",
    ")\n",
    "\n",
    "print(len(search_results))\n",
    "for search_result_item in search_results:\n",
    "    print(f\"Source page: {search_result_item[0].metadata['source']}: {search_result_item[0].metadata['page']} Score: {search_result_item[1]:.3f}\")"
   ]
  },
  {
   "cell_type": "markdown",
   "id": "48d7766c",
   "metadata": {},
   "source": [
    "We can also define filter as dictrionary"
   ]
  },
  {
   "cell_type": "code",
   "execution_count": 78,
   "id": "b70951b4",
   "metadata": {},
   "outputs": [
    {
     "name": "stdout",
     "output_type": "stream",
     "text": [
      "1\n",
      "Source page: data/epam-reports-results-for-third-quarter-2023-and-updates-full-year-outlook.pdf: 5 Score: 0.753\n"
     ]
    }
   ],
   "source": [
    "search_results = vector_store.similarity_search_with_score(\n",
    "    query = search_query, \n",
    "    k     = 20,\n",
    "    filter = {\n",
    "        \"source\": 'data/epam-reports-results-for-third-quarter-2023-and-updates-full-year-outlook.pdf',\n",
    "        # \"page\": 5 - you can add more filters here\n",
    "    }\n",
    ")\n",
    "\n",
    "print(len(search_results))\n",
    "for search_result_item in search_results:\n",
    "    print(f\"Source page: {search_result_item[0].metadata['source']}: {search_result_item[0].metadata['page']} Score: {search_result_item[1]:.3f}\")"
   ]
  },
  {
   "cell_type": "markdown",
   "id": "28fe76ed",
   "metadata": {},
   "source": [
    "Custom filter can be also defined."
   ]
  },
  {
   "cell_type": "code",
   "execution_count": 130,
   "id": "04492f63",
   "metadata": {},
   "outputs": [
    {
     "name": "stdout",
     "output_type": "stream",
     "text": [
      "12\n",
      "Source page: data/epam-reports-results-for-third-quarter-2023-and-updates-full-year-outlook.pdf: 6 Score: 0.821\n",
      "Source page: data/epam-reports-results-for-third-quarter-2023-and-updates-full-year-outlook.pdf: 8 Score: 0.802\n",
      "Source page: data/epam-reports-results-for-third-quarter-2023-and-updates-full-year-outlook.pdf: 13 Score: 0.800\n",
      "Source page: data/epam-reports-results-for-third-quarter-2023-and-updates-full-year-outlook.pdf: 6 Score: 0.798\n",
      "Source page: data/epam-reports-results-for-third-quarter-2023-and-updates-full-year-outlook.pdf: 15 Score: 0.794\n",
      "Source page: data/epam-reports-results-for-third-quarter-2023-and-updates-full-year-outlook.pdf: 11 Score: 0.794\n",
      "Source page: data/epam-reports-results-for-third-quarter-2023-and-updates-full-year-outlook.pdf: 12 Score: 0.792\n",
      "Source page: data/epam-reports-results-for-third-quarter-2023-and-updates-full-year-outlook.pdf: 14 Score: 0.791\n",
      "Source page: data/epam-reports-results-for-third-quarter-2023-and-updates-full-year-outlook.pdf: 0 Score: 0.790\n",
      "Source page: data/epam-reports-results-for-third-quarter-2023-and-updates-full-year-outlook.pdf: 4 Score: 0.787\n",
      "Source page: data/epam-reports-results-for-third-quarter-2023-and-updates-full-year-outlook.pdf: 10 Score: 0.782\n",
      "Source page: data/epam-reports-results-for-third-quarter-2023-and-updates-full-year-outlook.pdf: 5 Score: 0.753\n"
     ]
    }
   ],
   "source": [
    "from qdrant_client import models as qdrant_models\n",
    "\n",
    "custom_filter = qdrant_models.Filter(\n",
    "    must= [\n",
    "        qdrant_models.FieldCondition(\n",
    "            key=f\"{vector_store.metadata_payload_key}.source\",\n",
    "            match= qdrant_models.MatchValue(value=\"data/epam-reports-results-for-third-quarter-2023-and-updates-full-year-outlook.pdf\")\n",
    "        ),\n",
    "        qdrant_models.FieldCondition(\n",
    "            key=f\"{vector_store.metadata_payload_key}.custom\",\n",
    "            range= qdrant_models.Range(gte= 1000)\n",
    "        ),\n",
    "    ]\n",
    ")\n",
    "\n",
    "search_results = vector_store.similarity_search_with_score(\n",
    "    query  = search_query, \n",
    "    k      = 20,\n",
    "    filter = custom_filter,\n",
    ")\n",
    "\n",
    "print(len(search_results))\n",
    "for search_result_item in search_results:\n",
    "    print(f\"Source page: {search_result_item[0].metadata['source']}: {search_result_item[0].metadata['page']} Score: {search_result_item[1]:.3f}\")"
   ]
  },
  {
   "cell_type": "markdown",
   "id": "a991f02f",
   "metadata": {},
   "source": [
    "As we can see later, it's very useful to have ability to read all chunks from the collection."
   ]
  },
  {
   "cell_type": "code",
   "execution_count": 151,
   "id": "0b9b5d54",
   "metadata": {},
   "outputs": [
    {
     "name": "stdout",
     "output_type": "stream",
     "text": [
      "16\n",
      "id='00986dcb4e564a488ad16b29dc579067' payload={'page_content': \"(d) One -time charges for the three and nine months ended September 30, 2023 include $7.1 million related to the \\nCompany's Cost Optimization Program initiated in the third quarter of 2023. Consistent with the Company's historical \\nnon-GAAP policy, costs incu rred in connection with formal restructuring initiatives have been excluded from non- GAAP \\nresults as these are one -time and unusual in nature.  \\n(e) Geographic repositioning includes expenses associated with the relocation to other countries of employees based outside of Ukraine impacted by the war and geopolitical instability in the region, and includes the cost of accommodations, travel and food.  These expenses are incremental to those expenses incurred prior to the crisis, clearly \\nseparable from normal operations, and not expected to recur once the crisis has subsided and operations return to \\nnormal.  \\n(f) As a result of the Company's decision to no longer serve customers in Russia, the Company incurred impairment \\ncharges for long -lived assets in Russia including charges of $15.1 million associated with property and equipment, $3.8 \\nmillion associated wit h right -of-use assets and $0.7 million associated with goodwill for the nine  months ended \\nSeptember 30, 2022. Consistent with the Company's historical non -GAAP policy, impairment charges have been excluded \\nfrom non -GAAP results as these are one -time and unusual in nature.  \\n(g) As a result of the Company's decision to no longer serve customers in Russia and begin the process of a phased exit of its operations in Russia, the Company incurred charges associated with employee separation. Consistent with the \\nCompany's historical non -GAAP policy, employee separation costs incurred in connection with formal restructuring \\ninitiatives have been excluded from non- GAAP results as these are one -time and unusual in nature.  \\n(h) On July 26, 2023, the Company completed the sale of its remaining operations in Russia and recorded a loss on sale of \\napproximately $25.9 million  during the third quarter of 2023, including the recognition of the accumulated currency \\ntranslation loss related to this foreign entity that was previously included in Accumulated other comprehensive loss in the condensed consolidated financial statements . The Company excluded this loss from non- GAAP results as it is one -\\ntime and unusual in nature.\\n \\n(i) One -time benefit related to the implementation of tax planning to disregard certain foreign subsidiaries as separate \\nentities for U.S. income tax purposes. Consistent with the Company's historical non- GAAP policy, the benefit related to \\nthe implementat ion of tax planning has been excluded from non- GAAP results as it is one -time and unusual in nature.\", 'metadata': {'source': 'data/epam-reports-results-for-third-quarter-2023-and-updates-full-year-outlook.pdf', 'page': 13, 'custom': 2747}} vector=None shard_key=None order_value=None\n",
      "id='03d15755f30343e1bafeacebf7efbcf2' payload={'page_content': '2023 Outlook - Full Year and Fourth Quarter  \\nFull Year  \\nEPAM now expects the following for the full year: \\n• The Company narrows its expected range for revenues to $4.663 billion  to $4.673 billion  for the full year \\nreflecting a year -over -year decline of 3%  at the midpoint of the range. Revenue growth on an organic constant \\ncurrency basis excluding the impact of the exit from Russia will also decline 3% at the midpoint of the range;  \\n• For the full year, EPAM now expects GAAP income from operations to be in the range of 10%  to 11%  of revenues \\nand continues to expect non- GAAP income from operations to be in the range of 15%  to 16%  of revenues;  \\n• The Company continues to expect its GAAP effective tax rate to be approximately 22%  and continues to expect \\nits non -GAAP effective tax rate to be approximately 23% ; and  \\n• EPAM narrows its expected range for GAAP diluted EPS to $7.07 to $7.15, and increases expected non-GAAP \\ndiluted EPS to be in the range of $10.31 to $10.39. The Company continues to expect weighted average diluted \\nshares outstanding for the year of 59.1 million.  \\n \\nFourth Quarter  \\nEPAM expects the following for the fourth quarter:  \\n• Revenues will be in the range of $1.130 billion  to $1.140 billion  for the fourth quarter reflecting a year -over -year \\ndecline of 8%  at the midpoint of the range. Revenue on an organic constant currency basis excluding the impact \\nof the exit from Russia will also decline approximately 8% at the midpoint of the range;  \\n• For the fourth quarter, EPAM expects GAAP income from operations to be in the range of 10%  to 11%  of \\nrevenues and non- GAAP income from operations to be in the range of 15%  to 16%  of revenues;  \\n• The Company expects its GAAP effective tax rate to be approximately 24%  and its non- GAAP effective tax rate to \\nbe approximately 23% ; and  \\n• EPAM expects GAAP diluted EPS will be in the range of $1.67 to $1.75 for the quarter,  and non -GAAP diluted EPS \\nwill be in the range of $2.47 to $2.55 for the quarter. The Company expects weighted average diluted shares \\noutstanding for the quarter of 58.8 million.', 'metadata': {'source': 'data/epam-reports-results-for-third-quarter-2023-and-updates-full-year-outlook.pdf', 'page': 4, 'custom': 2129}} vector=None shard_key=None order_value=None\n",
      "id='0ee383f6b4364e6e899ec10a61d7f7e8' payload={'page_content': \"Three Months Ended  \\nSeptember 30,   Nine Months Ended  \\nSeptember 30,  \\n 2023  2022  2023  2022 \\nStock -based compensation expenses  $ 18,142    $ 17,474    $ 49,569    $ 31,782   \\nUnbilled business continuity resources (a)  —    1,031     9,415     12,862   \\nHumanitarian support in Ukraine (b)  3,004     2,853     8,297     25,288   \\nDiscretionary compensation (c)  —    —    —    (21,356)\\n  \\nTotal adjustments to GAAP cost of revenues(2)  21,146     21,358     67,281     48,576   \\nStock -based compensation expenses   19,705     15,813     59,967     36,510   \\nOne-time charges (d)  7,178     2,360     7,420     6,236   \\nHumanitarian support in Ukraine (b)  643    1,631     5,309     13,219   \\nOther acquisition -related expenses   867    264    2,448     934  \\nGeographic repositioning (e)  435    4,425     877    37,497   \\nRussia long -lived asset impairment charges (f)  —    —    —    19,570   \\nRussia business restructuring (g)  —    728    —    16,948   \\nTotal adjustments to GAAP selling, general and administrative \\nexpenses(3)  28,828     25,221     76,021     130,914   \\nLoss on sale of business  (h)  25,922     —    25,922     —  \\nAmortization of acquired intangible assets   5,688     5,584     16,708     16,584   \\nTotal adjustments to GAAP income from operations(4)  81,584     52,163     185,932     196,074   \\nForeign exchange (gain)/loss   (3,893)\\n    (6,691)\\n    6,725     102,035   \\nChange in fair value of contingent consideration included in Interest \\nand other income, net   300    2,414     1,818     8,520   \\nImpairment of financial assets   —    —    —    1,300   \\nProvision for income taxes:         \\nTax effect on non -GAAP adjustments   (12,395)\\n    (8,044)\\n    (34,060)\\n    (61,443)\\n  \\nExcess tax benefits related to stock -based compensation  (1,720)\\n    (10,879)\\n    (15,103)\\n    (31,370)\\n  \\nNet discrete benefit from tax planning (i)  —    (1,278)\\n    (968)\\n    (8,473)\\n  \\nTotal adjustments to GAAP net income(5) $ 63,876    $ 27,685    $ 144,344    $ 206,643   \\n \\n(a) Given the uncertainty in the region introduced by Russia’s invasion of Ukraine, EPAM has assigned delivery employees \\nin locations outside of the region to ensure the continuity of delivery for customers who have substantial delivery exposure to Ukraine  or other delivery concerns resulting from the invasion. These employees are not billed to clients and \\noperate largely in a standby or backup capacity. These expenses are incremental to those expenses incurred prior to the \\ncrisis, clearly separable from no rmal operations, and not expected to recur once the crisis has subsided and operations \\nreturn to normal.  \\n(b) Humanitarian support in Ukraine includes expenses related to EPAM's $100 million humanitarian commitment in \\nresponse to Russia's invasion of Ukraine to support EPAM professionals and their families in and displaced from Ukraine. These expenses are incr emental to those expenses incurred prior to the crisis, clearly separable from normal operations, \\nand not expected to recur once the crisis has subsided and operations return to normal.  \\n(c) Discretionary compensation includes the reduction of previously accrued amounts associated with the Company's \\nvariable compensation program for the year ended December 31, 2021. This adjustment was made in response to \\nRussia's invasion of Ukraine and is not expected to recur in the future.\", 'metadata': {'source': 'data/epam-reports-results-for-third-quarter-2023-and-updates-full-year-outlook.pdf', 'page': 12, 'custom': 3375}} vector=None shard_key=None order_value=None\n",
      "id='1042aded18fa414d955d7d523cea51c6' payload={'page_content': 'EPAM SYSTEMS, INC. AND SUBSIDIARIES  \\nCONDENSED CONSOLIDATED BALANCE SHEETS  \\n(Unaudited)  \\n(In thousands, except par value)  \\n  As of  \\nSeptember 30,  \\n2023  As of  \\nDecember 31,  \\n2022 \\nAssets     \\nCurrent assets     \\nCash and cash equivalents  $ 1,872,977    $ 1,681,344   \\nTrade receivables and contract assets, net of allowance of $10,884  \\n and $15,310, respectively   913,029     932,626   \\nShort -term investments   60,431     60,336   \\nPrepaid and other current assets   78,851     85,319   \\nTotal current assets   2,925,288     2,759,625   \\nProperty and equipment, net   239,654     273,348   \\nOperating lease right -of-use assets, net   136,311     148,780   \\nIntangible assets, net   69,730     77,652   \\nGoodwill   548,177     529,072   \\nDeferred tax assets   187,524     172,797   \\nOther noncurrent assets   55,588     47,877   \\nTotal assets  $ 4,162,272    $ 4,009,151   \\n    Liabilities     \\nCurrent liabilities     \\nAccounts payable  $ 25,415    $ 30,852   \\nAccrued compensation and benefits expenses   392,417     475,871   \\nAccrued expenses and other current liabilities   127,898     154,339   \\nIncome taxes payable, current   29,554     46,069   \\nOperating lease liabilities, current   38,294     40,352   \\nTotal current liabilities   613,578     747,483   \\nLong -term debt   27,500     27,693   \\nOperating lease liabilities, noncurrent   108,332     122,317   \\nOther noncurrent liabilities   112,844     108,648   \\nTotal liabilities   862,254     1,006,141   \\nCommitments and contingencies     \\nEquity     \\nStockholders’ equity       \\nCommon stock, $0.001 par value; 160,000 shares authorized; 57,706 and 57,668 \\nshares issued, 57,693 and 57,655 shares outstanding at September 30, 2023 and \\nDecember 31  2022  respecti el   58    58  \\nAdditional paid -in capital   951,086     847,965   \\nRetained earnings   2,440,043     2,248,948   \\nTreasury stock   (118)\\n    (118)\\n  Accumulated other comprehensive loss   (91,630)\\n    (95,321)\\n  Total EPAM Systems, Inc. stockholders’ equity   3,299,439     3,001,532   \\nNoncontrolling interest in consolidated subsidiaries   579    1,478   \\nTotal equity   3,300,018     3,003,010   \\nTotal liabilities and equity  $ 4,162,272    $ 4,009,151', 'metadata': {'source': 'data/epam-reports-results-for-third-quarter-2023-and-updates-full-year-outlook.pdf', 'page': 10, 'custom': 2200}} vector=None shard_key=None order_value=None\n",
      "id='11d65aa38c8643c9a1ee424b4f6c4902' payload={'page_content': 'Non -GAAP Financial Measures  \\nEPAM supplements results reported in accordance with United States generally accepted accounting principles, referred \\nto as GAAP , with non -GAAP financial measures. Management believes these measures help illustrate underlying trends in \\nEPAM’s business and uses the measures to establish budgets and operational goals, communicate internally and \\nexternally, for managing EPAM’s business and evaluating its performance. Management also believes these measures \\nhelp investors compare EPAM’s operating performance wi th its results in prior periods. EPAM anticipates that it will \\ncontinue to report both GAAP and certain non- GAAP financial measures in its financial results, including non -GAAP \\nresults that exclude stock -based compensation expenses, acquisition- related cos ts including amortization of acquired \\nintangible assets, impairment of assets, expenses associated with EPAM\\'s humanitarian commitment to its professionals \\nin Ukraine, unbilled business continuity resources resulting from Russia\\'s invasion of Ukraine, cost s associated with the \\ngeographic repositioning of EPAM employees based outside of Ukraine impacted by the war and geopolitical instability in the region, employee separation costs in Russia, certain other one -time charges and benefits, changes in fair value of \\ncontingent consideration, foreign exchange gains and losses, excess tax benefits related to stock -based compensation, \\nand the related effect on income taxes of the pre -tax adjustments. Management also compares revenues on an “organic \\nconstant currency basis excluding the impact of the exit from Russia,” which is also a non -GAAP financial measure. This \\nmeasure excludes the effect of acquisitions by removing revenues from an acquired company in the twelve months after completing an acquisition, foreign currency exchange rate fluctuations by translating the current period revenues into U.S. dollars at the weighted average exchange rates of the prior period of comparison and the decision to exit from \\nRussia by removing revenues from customers located in Rus sia in both the current period and prior period of \\ncomparison. Because EPAM’s reported non -GAAP financial measures are not calculated in accordance with GAAP , these \\nmeasures are not comparable to GAAP and may not be comparable to similarly described non- GAAP measures reported \\nby other companies within EPAM’s industry. Consequently, EPAM’s non- GAAP financial measures should not be evaluated \\nin isolation or supplant comparable GAAP measures, but rather, should be considered together with the information in \\nEPAM’s consolidated financial statements, which are prepared in accordance with GAAP .  \\n \\n  \\nForward -Looking Statements  \\nThis press release includes estimates and statements which may constitute forward- looking statements made pursuant \\nto the safe harbor provisions of the Private Securities Litigation Reform Act of 1995, the accuracy of which are necessarily \\nsubject to risks , uncertainties, and assumptions as to future events that may not prove to be accurate. Our estimates and \\nforward -looking statements are mainly based on our current expectations and estimates of future events and trends, \\nwhich affect or may affect our busi ness and operations.  These statements may include words such as \"may,\" \"will,\" \\n\"should,\" \"believe,\" \"expect,\" \"anticipate,\" \"intend,\" \"plan,\" \"estimate\" or similar expressions. Those future events and trends may relate to, among other things, developments relating to the war in Ukraine and escalation of the war in the surrounding region, political and civil unrest or military action in the geographies where we conduct business and \\noperate, difficult conditions in global capital markets, foreign exchange mar kets and the broader economy, and the effect \\nthat these events may have on our revenues, operations, access to capital, and profitability. Other factors that could', 'metadata': {'source': 'data/epam-reports-results-for-third-quarter-2023-and-updates-full-year-outlook.pdf', 'page': 6, 'custom': 3950}} vector=None shard_key=None order_value=None\n",
      "id='4ffc669fd19d4be2895d555020ff530e' payload={'page_content': \"• GAAP income from operations was $114.0 million , a decrease of $66.2 million , or 36.7% , compared to $180.2 \\nmillion  in the third  quarter of 2022. GAAP income from operation was negatively impacted by a $25.9 million \\nloss on the sale of the Company's remaining holdings in Russia;  \\n• GAAP income from operations also included $7.1 million of costs incurred in connection with the Company's \\nrecently initiated Cost Optimization Program. This Program is expected to produce over $100 million in annual \\nsavings;  \\n• Non -GAAP income from operations was $195.6 million , a decrease of $36.8 million , or 15.8% , compared to \\n$232.4 million  in the third  quarter of 2022;  \\n• Diluted earnings per share (“EPS”) on a GAAP basis was $1.65, a decrease of $0.98 compared to $2.63 in the \\nthird  quarter of 2022; and  \\n• Non -GAAP diluted EPS was $2.73, a decrease of $0.37, or 11.9% , compared to $3.10 in the third  quarter of \\n2022.\", 'metadata': {'source': 'data/epam-reports-results-for-third-quarter-2023-and-updates-full-year-outlook.pdf', 'page': 2, 'custom': 935}} vector=None shard_key=None order_value=None\n",
      "id='5af54a4ab0b540c0b0218876dd873c66' payload={'page_content': 'that these events may have on our revenues, operations, access to capital, and profitability. Other factors that could \\ncause actual results to differ materially from those expressed or implied include general ec onomic conditions, the risk \\nfactors discussed in the Company’s most recent Annual Report on Form 10 -K and the factors discussed in the Company’s \\nQuarterly Reports on Form 10 -Q, particularly under the headings \"Management’s Discussion and Analysis of Financ ial \\nCondition and Results of Operations\" and \"Risk Factors\" and other filings with the Securities and Exchange Commission. Although we believe that these estimates and forward -looking statements are based upon reasonable assumptions, they \\nare subject to se veral risks and uncertainties and are made based on information currently available to us. EPAM \\nundertakes no obligation to update or revise any forward -looking statements, whether as a result of new information, \\nfuture events, or otherwise, except as may be required under applicable securities law.', 'metadata': {'source': 'data/epam-reports-results-for-third-quarter-2023-and-updates-full-year-outlook.pdf', 'page': 6, 'custom': 1037}} vector=None shard_key=None order_value=None\n",
      "id='5c1fc15517bd498fb683644f4137b42f' payload={'page_content': 'Contact:   \\nEPAM Systems, Inc.  \\nDavid Straube, Head of Investor Relations  \\nPhone: +1 -267-759-9000 x59419 \\nEmail: david_straube@epam.com', 'metadata': {'source': 'data/epam-reports-results-for-third-quarter-2023-and-updates-full-year-outlook.pdf', 'page': 7, 'custom': 138}} vector=None shard_key=None order_value=None\n",
      "id='60aa0f40b93b4175968f59b51d431c23' payload={'page_content': 'Cash Flow and Other Metrics  \\n• Cash provided by operating activities was $391.3 million  for the first nine  months of 2023, compared to cash \\nprovided by operating activities of $278.0 million  for the first nine  months of 2022 ; \\n• Cash, cash equivalents and restricted cash totaled $1.880 billion  as of September  30, 2023, an increase  of \\n$196.1 million , or 11.7% , from $1.684 billion  as of December  31, 2022 ; and  \\n• Total headcount was approximately 54,600 as of September  30, 2023. Included in this number were \\napproximately 48,500 delivery professionals, a decrease of 1.7%  from June 30, 2023.', 'metadata': {'source': 'data/epam-reports-results-for-third-quarter-2023-and-updates-full-year-outlook.pdf', 'page': 3, 'custom': 613}} vector=None shard_key=None order_value=None\n",
      "id='a1fae0086d0f4b14bad1378e992c6b92' payload={'page_content': 'EPAM Reports Results for Third  Quarter 2023 and Updates Full Year Outlook  \\n \\n• Third  quarter revenues of $1.152 billion , down 6.1%  year -over -year  \\n• GAAP Income from Operations was 9.9%  of revenues and Non -GAAP Income from Operations was \\n17.0%  of revenues for the third  quarter  \\n• Third  quarter GAAP Diluted EPS of $1.65 , a decrease  of $0.98 , and Non -GAAP Diluted EPS of $2.73 , a \\ndecrease of $0.37  on a year -over -year basis  \\n• In the third quarter, EPAM initiated a Cost Optimization Program expected to deliver over $100 million \\nin annualized savings designed to reduce Company operating costs by 2.5 -3.0% \\n• For the full year, EPAM narrows expected revenues to be in the range of $4.663  billion  to $4.673 billion , \\nnarrows expected GAAP Diluted EPS to be in the range of $7.07  to $7.15  and increases expected Non -\\nGAAP Diluted EPS to now be in the range of $10.31  to $10.39 \\n• For the fourth quarter, EPAM expects revenues to be in the range of $1.130 billion  to $1.140 billion , \\nGAAP Diluted EPS to be in the range of $1.67  to $1.75  and Non -GAAP Diluted EPS to be in the range of \\n$2.47  to $2.55 \\nNewtown, PA, USA — November  2, 2023 — EPAM Systems, Inc. (NYSE: EPAM), a leading digital transformation services \\nand product engineering company, today reported results for the third  quarter ended September  30, 2023. \\n\"While we navigate through a challenging market landscape, we have observed indications of stability and growth in \\nsome parts of our business, which partially offsets the negative impacts in other parts of our portfolio,” said Arkadiy \\nDobkin, CEO & President, EPAM. “Our solid third- quarter results are primarily due to our  enhanced efforts in driving key \\nclient engagements, investment in strategic solution capabilities and go -to-market partnerships, and the unwavering \\ndedication of our employees.”', 'metadata': {'source': 'data/epam-reports-results-for-third-quarter-2023-and-updates-full-year-outlook.pdf', 'page': 0, 'custom': 1870}} vector=None shard_key=None order_value=None\n",
      "id='acb08b043b4a4cf8aa2d84774e3a286d' payload={'page_content': \"Conference Call Information  \\nEPAM will host a conference call to discuss the results on Thursday, November  2, 2023, at 8:00 a.m. EDT. The conference \\ncall will be available live on the EPAM website at https://investors.epam.com . Please visit the website at least 15 minutes \\nprior to the call to register for the event. For those who cannot access the live webcast, a replay will be available in the \\nInvestor Relations section of the website.  \\n \\n \\nAbout EPAM Systems  \\nSince 1993,\\u202fEPAM Systems, Inc.\\u202f(NYSE: EPAM) has leveraged its advanced software engineering heritage to become the \\nforemost global digital transformation services provider – leading the industry in digital and physical product \\ndevelopment and digital platform engineering services. Through its innovative strategy; integrated advisory, consulting, and design capabilities; and unique 'Engineering DNA,' EPAM's globally deployed hybrid teams help make the future real for clients and communities around the world by powering better enterprise, education and health platforms that connect people, optimize experiences, and improve people's lives. In 2021, EPAM was added to the S&P 500 and included among the list of Forbes Global 2000 companies.  \\n \\nSelected by Newsweek as a 2021, 2022 and 2023 Most Loved Workplace, EPAM's global multidisciplinary teams serve \\ncustomers in more than 50 countries across six continents. As a recognized leader, EPAM is listed among the top 15 companies in Information Tech nology Services on the Fortune 1000 and ranked four times as the top IT services company \\non Fortune's 100 Fastest Growing Companies list. EPAM is also listed among Ad Age's top 25 World's Largest Agency \\nCompanies for three consecutive years, and Consulting  Magazine named EPAM Continuum a top 20 Fastest Growing \\nFirm.  \\nLearn more at www.epam.com and follow EPAM on\\u202fTwitter \\u202fand\\u202f LinkedIn .\", 'metadata': {'source': 'data/epam-reports-results-for-third-quarter-2023-and-updates-full-year-outlook.pdf', 'page': 5, 'custom': 1877}} vector=None shard_key=None order_value=None\n",
      "id='b481bf90c1e34be29939a1a20bed216a' payload={'page_content': 'Reconciliation of expected GAAP to non -GAAP diluted earnings per share is presented in the table below:  \\n Fourth Quarter 2023   Full Year 2023  \\nGAAP diluted earnings per share  $1.67 to $1.75   $7.07 to $7.15  \\nStock -based compensation expenses   0.62     2.47   \\nIncluded in cost of revenues (exclusive of depreciation and amortization)   0.28     1.12   \\nIncluded in selling, general  and administrative expenses   0.34     1.35   \\nUnbilled business continuity resources (a)  —    0.16   \\nHumanitarian support in Ukraine (b)  0.06     0.29   \\nOne-time charges (d)  0.25     0.40   \\nLoss on sale of business (h)  —    0.43   \\nOther acquisition -related expenses   —    0.04   \\nAmortization of acquired intangible assets   0.10     0.38   \\nChange in fair value of contingent consideration   —    0.03   \\nForeign exchange loss   —    0.12   \\nProvision for income taxes:     \\n     Tax effect on non -GAAP adjustments   (0.21)    (0.78)  \\n     Excess tax benefits related to stock -based compensation   (0.02)    (0.28)  \\n  Net discrete benefit from tax planning (i)  —    (0.02)  \\nNon -GAAP diluted earnings per share  $2.47 to $2.55   $10.31 to $10.39', 'metadata': {'source': 'data/epam-reports-results-for-third-quarter-2023-and-updates-full-year-outlook.pdf', 'page': 15, 'custom': 1154}} vector=None shard_key=None order_value=None\n",
      "id='d7fa40853c0b414e96c1ec3e017b3a29' payload={'page_content': 'EPAM SYSTEMS, INC. AND SUBSIDIARIES  \\nCONDENSED CONSOLIDATED STATEMENTS OF INCOME  \\n(Unaudited)  \\n(In thousands, except per share data)  \\n  Three Months Ended  \\nSeptember 30,   Nine Months Ended  \\nSeptember 30,  \\n  2023  2022  2023  2022 \\nRevenues  $ 1,152,136    $ 1,226,920    $ 3,533,283    $ 3,593,395   \\nOperating expenses:         \\nCost of revenues (exclusive of depreciation and \\namortization)   794,265     826,796     2,458,881     2,453,955   \\nSelling, general and administrative expenses   194,829     198,021     601,093     667,825   \\nDepreciation and amortization expense   23,092     21,876     68,642     69,126   \\nLoss on sale of business   25,922     —    25,922     —  \\nIncome from operations   114,028     180,227     378,745     402,489   \\nInterest and other income, net   13,931     4,228     37,162     5,642   \\nForeign exchange gain/(loss)  \\n 3,893     6,691     (6,725)\\n    (102,035)\\n  \\nIncome before provision for income taxes   131,852     191,146     409,182     306,096   \\nProvision for income taxes   34,648     35,092     89,653     41,719   \\nNet income  $ 97,204    $ 156,054    $ 319,529    $ 264,377   \\n        \\nNet income per share:         \\nBasic $ 1.68    $ 2.72    $ 5.52    $ 4.62   \\nDiluted  $ 1.65    $ 2.63    $ 5.40    $ 4.47   \\nShares used in calculation of net income per share:         \\nBasic  57,853     57,420     57,850     57,194   \\nDiluted   58,948     59,357     59,143     59,108', 'metadata': {'source': 'data/epam-reports-results-for-third-quarter-2023-and-updates-full-year-outlook.pdf', 'page': 8, 'custom': 1432}} vector=None shard_key=None order_value=None\n",
      "id='dac812effc434d0ca2b4f17c0f1ac054' payload={'page_content': 'EPAM SYSTEMS, INC. AND SUBSIDIARIES  \\nReconciliations of Non -GAAP Financial Measures to Comparable GAAP Financial Measures  \\n(Unaudited)  \\n(In thousands, except percent and per share amounts)  \\n \\n \\nReconciliation of revenue decline as reported on a GAAP basis to revenue decline on an organic constant currency basis excluding the impact of the exit from Russia is presented in the table below:  \\n Three Months Ended  \\nSeptember 30, 2023   Nine Months Ended  \\nSeptember 30, 2023  \\nRevenue decline as reported  (6.1)  %  (1.7)  % \\nForeign exchange rates impact  (1.9)  %  (0.4)  % \\nInorganic revenue growth  (0.2)  %  (0.1)  % \\nImpact of exit from Russia  0.4 %  1.1 % \\nRevenue decline on an organic constant currency basis excluding the impact of the \\nexit from Russia(1) (7.8)  %  (1.1)  % \\n \\n(1) Constant currency revenue results are calculated by translating current period revenues in local currency into U.S. \\ndollars at the weighted average exchange rates of the comparable prior period.  \\n \\nReconciliation of various income statement amounts from GAAP to non -GAAP for the three and nine  months ended \\nSeptember  30, 2023 and 2022 : \\n Three Months Ended  \\nSeptember 30, 2023   Nine Months Ended  \\nSeptember 30, 2023  \\n GAAP  Adjustments   Non -GAAP  GAAP  Adjustments   Non -GAAP \\nCost of revenues (exclusive of depreciation and \\namortization)(2) $ 794,265    $ (21,146)    $ 773,119    $ 2,458,881\\n   $ (67,281)    $ 2,391,600\\n  \\nSelling, general and administrative expenses(3) $ 194,829    $ (28,828)    $ 166,001    $ 601,093    $ (76,021)    $ 525,072   \\nIncome from operations(4) $ 114,028    $ 81,584    $ 195,612    $ 378,745    $ 185,932    $ 564,677   \\nOperating margin  9.9 %  7.1 %  17.0  %  10.7  %  5.3 %  16.0  % \\nNet income(5) $ 97,204    $ 63,876    $ 161,080    $ 319,529    $ 144,344    $ 463,873   \\nDiluted earnings per share  $ 1.65      $ 2.73    $ 5.40      $ 7.84   \\n \\n Three Months Ended  \\nSeptember 30, 2022   Nine Months Ended  \\nSeptember 30, 2022  \\n GAAP  Adjustments   Non -GAAP  GAAP  Adjustments   Non -GAAP \\nCost of revenues (exclusive of depreciation and \\namortization)(2) $ 826,796    $ (21,358)    $ 805,438    $ 2,453,955\\n   $ (48,576)    $ 2,405,379\\n  \\nSelling, general and administrative expenses(3) $ 198,021    $ (25,221)    $ 172,800    $ 667,825    $\\n    $ 536,911   \\nIncome from operations(4) $ 180,227    $ 52,163    $ 232,390    $ 402,489    $ 196,074    $ 598,563   \\nOperating margin  14.7  %  4.2 %  18.9  %  11.2  %  5.5 %  16.7  % \\nNet income(5) $ 156,054    $ 27,685    $ 183,739    $ 264,377    $ 206,643    $ 471,020   \\nDiluted earnings per share  $ 2.63      $ 3.10    $ 4.47      $ 7.97   \\n \\nItems (2) through (5) above are detailed in the table below with the specific cross -reference noted in the appropriate \\nitem.', 'metadata': {'source': 'data/epam-reports-results-for-third-quarter-2023-and-updates-full-year-outlook.pdf', 'page': 11, 'custom': 2780}} vector=None shard_key=None order_value=None\n",
      "id='e436d7f936f44f58b38f776e1349b8cf' payload={'page_content': 'Third  Quarter 2023 Highlights  \\n• Revenues decreased  to $1.152 billion , a year -over -year decrease of $74.8 million , or 6.1% . On an organic \\nconstant currency basis excluding the impact of the exit from Russia, revenues were down 7.8%  compared to \\nthe third  quarter of 2022;', 'metadata': {'source': 'data/epam-reports-results-for-third-quarter-2023-and-updates-full-year-outlook.pdf', 'page': 1, 'custom': 282}} vector=None shard_key=None order_value=None\n",
      "id='ea039a13c3c84cba8dc8b03b8ea296e6' payload={'page_content': 'EPAM SYSTEMS, INC. AND SUBSIDIARIES  \\nReconciliations of Guidance Non -GAAP Financial Measures to Comparable GAAP Financial Measures  \\n(Unaudited)  \\n \\nThe below guidance constitutes forward- looking statements within the meaning of the federal securities laws and is \\nbased on a number of assumptions that are subject to change and many of which are outside the control of the \\nCompany. Actual results may differ materially from the Company’s expectations depending on factors discussed in the Company’s filings with the Securities and Exchange Commission.  \\n  Reconciliation of expected revenue decline on a GAAP basis to expected revenue decline on an organic constant currency basis excluding the impact of the exit from Russia is presented in the table below:  \\n Fourth Quarter 2023   Full Year 2023  \\nRevenue decline (at midpoint of the range)  (8) %  (3) % \\nForeign exchange rates impact  (0.4)  %  (0.6)  % \\nInorganic revenue growth  (0.2)  %  (0.2)  % \\nImpact of exit from Russia  0.6 %  0.8 % \\nRevenue decline on an organic constant currency basis excluding the \\nimpact of the exit from Russia (at midpoint of the range) (6) (8) %  (3) % \\n \\n(6) Constant currency revenue results are calculated by translating expected revenues in local currency into U.S. \\ndollars at the weighted average exchange rates of the comparable prior period.  \\nReconciliation of expected GAAP to non -GAAP income from operations as a percentage of revenues is presented in the \\ntable below:  \\n Fourth Quarter 2023   Full Year 2023  \\nGAAP income from operations as a percentage of revenues  10% to 11%   10% to 11%  \\nStock -based compensation expenses  3.2 %  3.1 % \\nIncluded in cost of revenues (exclusive of depreciation and amortization)  1.4 %  1.4 % \\nIncluded in selling, general and administrative expenses  1.8 %  1.7 % \\nUnbilled business continuity resources (a) — %  0.2 % \\nHumanitarian support in Ukraine (b) 0.2 %  0.3 % \\nOne-time charges (d) 1.2 %  0.4 % \\nLoss on sale of business (h) — %  0.5 % \\nAmortization of acquired intangible assets  0.4 %  0.5 % \\nNon -GAAP income from operations as a percentage of revenues   15% to 16%   15% to 16%  \\n \\nReconciliation of expected GAAP to non -GAAP effective tax rate is presented in the table below:  \\n Fourth Quarter 2023   Full Year 2023  \\nGAAP effective tax rate (approximately)  24 %  22 % \\nExcess tax benefits related to stock -based compensation  0.9 %  3.0 % \\nTax effect on non -GAAP adjustments  (1.9)  %  (2.0)  % \\nNon -GAAP effective tax rate (approximately)  23 %  23 %', 'metadata': {'source': 'data/epam-reports-results-for-third-quarter-2023-and-updates-full-year-outlook.pdf', 'page': 14, 'custom': 2519}} vector=None shard_key=None order_value=None\n"
     ]
    }
   ],
   "source": [
    "# get all documents\n",
    "all_documents = vector_store.client.scroll(\n",
    "    collection_name= vector_store.collection_name,\n",
    "    offset = 0,\n",
    "    limit  = vector_store.client.get_collection(vector_store.collection_name).points_count,\n",
    "    with_payload=True,\n",
    "    with_vectors=False,\n",
    ")\n",
    "\n",
    "print(len(all_documents[0]))\n",
    "for doc in all_documents[0]:\n",
    "    print(doc)"
   ]
  },
  {
   "cell_type": "code",
   "execution_count": 150,
   "id": "ca574cad",
   "metadata": {},
   "outputs": [
    {
     "data": {
      "text/plain": [
       "16"
      ]
     },
     "execution_count": 150,
     "metadata": {},
     "output_type": "execute_result"
    }
   ],
   "source": []
  }
 ],
 "metadata": {
  "kernelspec": {
   "display_name": "Python 3 (ipykernel)",
   "language": "python",
   "name": "python3"
  },
  "language_info": {
   "codemirror_mode": {
    "name": "ipython",
    "version": 3
   },
   "file_extension": ".py",
   "mimetype": "text/x-python",
   "name": "python",
   "nbconvert_exporter": "python",
   "pygments_lexer": "ipython3",
   "version": "3.11.9"
  }
 },
 "nbformat": 4,
 "nbformat_minor": 5
}
