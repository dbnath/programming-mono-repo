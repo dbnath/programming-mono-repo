{
 "cells": [
  {
   "cell_type": "markdown",
   "metadata": {},
   "source": [
    "## Chat Completions API Demo\n",
    "\n",
    "A small Python script demonstrating:\n",
    "- how a multi-turn dialog is composed\n",
    "- how OpenAI API is used to call GPT and get a reply"
   ]
  },
  {
   "cell_type": "code",
   "execution_count": 1,
   "metadata": {
    "ExecuteTime": {
     "end_time": "2024-06-04T10:55:52.379874Z",
     "start_time": "2024-06-04T10:55:47.213824Z"
    }
   },
   "outputs": [],
   "source": [
    "!pip install openai -q"
   ]
  },
  {
   "cell_type": "code",
   "execution_count": 3,
   "metadata": {
    "ExecuteTime": {
     "end_time": "2024-06-04T10:55:52.385776Z",
     "start_time": "2024-06-04T10:55:52.381380Z"
    }
   },
   "outputs": [
    {
     "ename": "ValueError",
     "evalue": "Must provide either the `api_version` argument or the `OPENAI_API_VERSION` environment variable",
     "output_type": "error",
     "traceback": [
      "\u001b[31m---------------------------------------------------------------------------\u001b[39m",
      "\u001b[31mValueError\u001b[39m                                Traceback (most recent call last)",
      "\u001b[36mCell\u001b[39m\u001b[36m \u001b[39m\u001b[32mIn[3]\u001b[39m\u001b[32m, line 6\u001b[39m\n\u001b[32m      4\u001b[39m model = \u001b[33m\"\u001b[39m\u001b[33mgpt-35-turbo-1106\u001b[39m\u001b[33m\"\u001b[39m\n\u001b[32m      5\u001b[39m \u001b[38;5;66;03m# LEAP platforms takes care of API key for us, running it locally would require API key and endpoint URL\u001b[39;00m\n\u001b[32m----> \u001b[39m\u001b[32m6\u001b[39m client = \u001b[43mAzureOpenAI\u001b[49m\u001b[43m(\u001b[49m\u001b[43mapi_key\u001b[49m\u001b[43m=\u001b[49m\u001b[43mos\u001b[49m\u001b[43m.\u001b[49m\u001b[43menviron\u001b[49m\u001b[43m[\u001b[49m\u001b[33;43m'\u001b[39;49m\u001b[33;43mOPENAI_API_KEY\u001b[39;49m\u001b[33;43m'\u001b[39;49m\u001b[43m]\u001b[49m\u001b[43m)\u001b[49m\n\u001b[32m      8\u001b[39m \u001b[38;5;66;03m# Recreate the conversation from the above screenshot as a JSON object\u001b[39;00m\n\u001b[32m      9\u001b[39m message_text = [\n\u001b[32m     10\u001b[39m     {\u001b[33m\"\u001b[39m\u001b[33mrole\u001b[39m\u001b[33m\"\u001b[39m: \u001b[33m\"\u001b[39m\u001b[33msystem\u001b[39m\u001b[33m\"\u001b[39m, \u001b[33m\"\u001b[39m\u001b[33mcontent\u001b[39m\u001b[33m\"\u001b[39m: \u001b[33m\"\u001b[39m\u001b[33mYou are an AI assistant that helps people find information.\u001b[39m\u001b[33m\"\u001b[39m},\n\u001b[32m     11\u001b[39m     {\u001b[33m\"\u001b[39m\u001b[33mrole\u001b[39m\u001b[33m\"\u001b[39m: \u001b[33m\"\u001b[39m\u001b[33muser\u001b[39m\u001b[33m\"\u001b[39m, \u001b[33m\"\u001b[39m\u001b[33mcontent\u001b[39m\u001b[33m\"\u001b[39m: \u001b[33m\"\u001b[39m\u001b[33mHello\u001b[39m\u001b[33m\"\u001b[39m},\n\u001b[32m   (...)\u001b[39m\u001b[32m     15\u001b[39m         \u001b[33m\"\u001b[39m\u001b[33mcontent\u001b[39m\u001b[33m\"\u001b[39m: \u001b[33m\"\u001b[39m\u001b[33mThe average distance between the Earth and the Moon is approximately 384,400 kilometers (238,900 miles).\u001b[39m\u001b[33m\"\u001b[39m}\n\u001b[32m     16\u001b[39m ]\n",
      "\u001b[36mFile \u001b[39m\u001b[32m~/git/programming/python/prompt-engineering/.venv/lib/python3.13/site-packages/openai/lib/azure.py:207\u001b[39m, in \u001b[36mAzureOpenAI.__init__\u001b[39m\u001b[34m(self, api_version, azure_endpoint, azure_deployment, api_key, azure_ad_token, azure_ad_token_provider, organization, project, webhook_secret, websocket_base_url, base_url, timeout, max_retries, default_headers, default_query, http_client, _strict_response_validation)\u001b[39m\n\u001b[32m    204\u001b[39m     api_version = os.environ.get(\u001b[33m\"\u001b[39m\u001b[33mOPENAI_API_VERSION\u001b[39m\u001b[33m\"\u001b[39m)\n\u001b[32m    206\u001b[39m \u001b[38;5;28;01mif\u001b[39;00m api_version \u001b[38;5;129;01mis\u001b[39;00m \u001b[38;5;28;01mNone\u001b[39;00m:\n\u001b[32m--> \u001b[39m\u001b[32m207\u001b[39m     \u001b[38;5;28;01mraise\u001b[39;00m \u001b[38;5;167;01mValueError\u001b[39;00m(\n\u001b[32m    208\u001b[39m         \u001b[33m\"\u001b[39m\u001b[33mMust provide either the `api_version` argument or the `OPENAI_API_VERSION` environment variable\u001b[39m\u001b[33m\"\u001b[39m\n\u001b[32m    209\u001b[39m     )\n\u001b[32m    211\u001b[39m \u001b[38;5;28;01mif\u001b[39;00m default_query \u001b[38;5;129;01mis\u001b[39;00m \u001b[38;5;28;01mNone\u001b[39;00m:\n\u001b[32m    212\u001b[39m     default_query = {\u001b[33m\"\u001b[39m\u001b[33mapi-version\u001b[39m\u001b[33m\"\u001b[39m: api_version}\n",
      "\u001b[31mValueError\u001b[39m: Must provide either the `api_version` argument or the `OPENAI_API_VERSION` environment variable"
     ]
    }
   ],
   "source": [
    "from openai import AzureOpenAI\n",
    "import os\n",
    "\n",
    "model = \"gpt-35-turbo-1106\"\n",
    "# LEAP platforms takes care of API key for us, running it locally would require API key and endpoint URL\n",
    "client = AzureOpenAI(api_key=os.environ['OPENAI_API_KEY'])\n",
    "\n",
    "# Recreate the conversation from the above screenshot as a JSON object\n",
    "message_text = [\n",
    "    {\"role\": \"system\", \"content\": \"You are an AI assistant that helps people find information.\"},\n",
    "    {\"role\": \"user\", \"content\": \"Hello\"},\n",
    "    {\"role\": \"assistant\", \"content\": \"Hello! How can I assist you today?\"},\n",
    "    {\"role\": \"user\", \"content\": \"What is the distance between Earth and Moon?\"},\n",
    "    {\"role\": \"assistant\",\n",
    "        \"content\": \"The average distance between the Earth and the Moon is approximately 384,400 kilometers (238,900 miles).\"}\n",
    "]\n",
    "\n",
    "# Append a new user message to the end of the dialog\n",
    "message_text.append(\n",
    "    {\"role\": \"user\", \"content\": \"What is the distance to Mars?\"})\n",
    "\n",
    "# Send request to OpenAI chat completions API\n",
    "completion = client.chat.completions.create(\n",
    "    model=model,\n",
    "    messages=message_text,\n",
    "    temperature=0.7,\n",
    "    max_tokens=800,\n",
    "    top_p=0.95,\n",
    "    frequency_penalty=0,\n",
    "    presence_penalty=0,\n",
    "    stop=None\n",
    ")\n",
    "\n",
    "# Print out the response\n",
    "print(completion.choices[0].message.role+\": \" +\n",
    "      completion.choices[0].message.content)"
   ]
  }
 ],
 "metadata": {
  "kernelspec": {
   "display_name": ".venv",
   "language": "python",
   "name": "python3"
  },
  "language_info": {
   "codemirror_mode": {
    "name": "ipython",
    "version": 3
   },
   "file_extension": ".py",
   "mimetype": "text/x-python",
   "name": "python",
   "nbconvert_exporter": "python",
   "pygments_lexer": "ipython3",
   "version": "3.13.3"
  }
 },
 "nbformat": 4,
 "nbformat_minor": 4
}
