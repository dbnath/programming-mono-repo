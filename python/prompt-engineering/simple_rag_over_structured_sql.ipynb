{
 "cells": [
  {
   "cell_type": "markdown",
   "id": "71504401-1019-4dac-b5d8-f4e5815c9163",
   "metadata": {},
   "source": [
    "# Notebook Information\n",
    "\n",
    "This notebook demonstrates how to implement simgle RAG over structured data - SQL database.\n",
    "\n",
    "\n",
    "---\n",
    "\n",
    "This notebook is maintained by:\n",
    "\n",
    "**Name:** Adam Krzysiek \n",
    "**Email:** [adam_krzysiek@epam.com](adam_krzysiek@epam.com)\n",
    "\n",
    "---"
   ]
  },
  {
   "cell_type": "code",
   "execution_count": null,
   "id": "04b271bc-96bf-4ae2-945a-301fe902ccd4",
   "metadata": {},
   "outputs": [],
   "source": [
    "%pip install --upgrade pip > /dev/null\n",
    "%pip install langchain-core langchain-experimental langchain-openai > /dev/null"
   ]
  },
  {
   "cell_type": "code",
   "execution_count": null,
   "id": "5e21c525",
   "metadata": {},
   "outputs": [],
   "source": [
    "import os\n",
    "\n",
    "from dotenv import load_dotenv, find_dotenv\n",
    "from langchain_openai import AzureChatOpenAI\n",
    "from langchain_experimental.sql import SQLDatabaseChain\n",
    "from langchain_community.utilities import SQLDatabase\n",
    "from langchain_core.prompts import ChatPromptTemplate\n"
   ]
  },
  {
   "cell_type": "markdown",
   "id": "527f7ef6",
   "metadata": {},
   "source": [
    "## Load env"
   ]
  },
  {
   "cell_type": "code",
   "execution_count": null,
   "id": "942f7596",
   "metadata": {},
   "outputs": [],
   "source": [
    "load_dotenv(find_dotenv())\n",
    "\n",
    "if not os.environ.get(\"OPENAI_API_KEY\"):\n",
    "    raise Exception(\"Missing OPENAI_API_KEY\")\n"
   ]
  },
  {
   "cell_type": "markdown",
   "id": "7ef8a18d",
   "metadata": {},
   "source": [
    "## Setup llm"
   ]
  },
  {
   "cell_type": "code",
   "execution_count": null,
   "id": "4451bffb",
   "metadata": {},
   "outputs": [],
   "source": [
    "llm = AzureChatOpenAI(\n",
    "  api_key         = os.environ['OPENAI_API_KEY'],\n",
    "  api_version     = \"2023-07-01-preview\",\n",
    "  azure_endpoint  = \"https://ai-proxy.lab.epam.com\",\n",
    "  model           = \"gpt-4o-mini-2024-07-18\",\n",
    "  temperature     = 0.0\n",
    ")"
   ]
  },
  {
   "cell_type": "markdown",
   "id": "95f3aae6",
   "metadata": {},
   "source": [
    "### Test LLM"
   ]
  },
  {
   "cell_type": "code",
   "execution_count": null,
   "id": "e2ec1446",
   "metadata": {},
   "outputs": [],
   "source": [
    "llm(\"What is capital of Poland?\").content"
   ]
  },
  {
   "cell_type": "markdown",
   "id": "18453662",
   "metadata": {},
   "source": [
    "## Database setup"
   ]
  },
  {
   "cell_type": "code",
   "execution_count": null,
   "id": "a7a6d4ab-bfd5-40a4-b647-e9fd554b3838",
   "metadata": {},
   "outputs": [],
   "source": [
    "db = SQLDatabase.from_uri(\"sqlite:///data/cars.db\")"
   ]
  },
  {
   "cell_type": "markdown",
   "id": "1d535327",
   "metadata": {},
   "source": [
    "### Test database"
   ]
  },
  {
   "cell_type": "code",
   "execution_count": null,
   "id": "a9f281c8",
   "metadata": {},
   "outputs": [],
   "source": [
    "print(f\"Database dialect: {db.dialect}\")\n",
    "print(f\"Available table names: {db.get_usable_table_names()}\")\n",
    "db.run(\"SELECT * FROM cars LIMIT 10;\")"
   ]
  },
  {
   "cell_type": "markdown",
   "id": "14550b81",
   "metadata": {},
   "source": [
    "## Database chain"
   ]
  },
  {
   "cell_type": "markdown",
   "id": "c22b3988",
   "metadata": {},
   "source": [
    "The SQLDatabaseChain class is designed for interacting with SQL databases. It allows natural language queries to be translated \n",
    "into SQL queries and executed against a database to get result."
   ]
  },
  {
   "cell_type": "code",
   "execution_count": null,
   "id": "1c87b26f",
   "metadata": {},
   "outputs": [],
   "source": [
    "db_chain = SQLDatabaseChain.from_llm(llm=llm, db=db, verbose=True, return_sql=False, return_direct=True)\n"
   ]
  },
  {
   "cell_type": "markdown",
   "id": "89a920c0",
   "metadata": {},
   "source": [
    "### Test database chain"
   ]
  },
  {
   "cell_type": "markdown",
   "id": "f7212102",
   "metadata": {},
   "source": [
    "Let's try some queries."
   ]
  },
  {
   "cell_type": "code",
   "execution_count": null,
   "id": "fc79c565",
   "metadata": {},
   "outputs": [],
   "source": [
    "db_chain(\"get cars\")['result']"
   ]
  },
  {
   "cell_type": "code",
   "execution_count": null,
   "id": "8308a8ef",
   "metadata": {},
   "outputs": [],
   "source": [
    "db_chain(\"give me 3 most expensive cars\")"
   ]
  },
  {
   "cell_type": "code",
   "execution_count": null,
   "id": "58763086",
   "metadata": {},
   "outputs": [],
   "source": [
    "db_chain.run(\"give me cars without AC\")"
   ]
  },
  {
   "cell_type": "code",
   "execution_count": null,
   "id": "428dc24e",
   "metadata": {},
   "outputs": [],
   "source": [
    "db_chain(\"get cars worth more than 1 milion\")['result']"
   ]
  },
  {
   "cell_type": "markdown",
   "id": "d6017ca5",
   "metadata": {},
   "source": [
    "## RAG"
   ]
  },
  {
   "cell_type": "code",
   "execution_count": null,
   "id": "c5ef403e",
   "metadata": {},
   "outputs": [],
   "source": [
    "RAG_PROMPT_TEMPLATE = \"\"\"\n",
    "You are professional AI car recommendation assistant. Given the human query as HUMAN_QUERY, your goal is to provide car recommendation matching\n",
    "expectations enclosed in there, based on cars available listed under AVAILABLE_CARS. If AVAILABLE_CARS is emptly it simply means there are not cars to be recommended.\n",
    "\"\"\"\n",
    "\n",
    "prompt = ChatPromptTemplate.from_messages(\n",
    "    [\n",
    "        (\n",
    "            \"system\",\n",
    "            RAG_PROMPT_TEMPLATE,\n",
    "        ),\n",
    "        (\n",
    "            \"human\",\n",
    "            \"HUMAN_QUERY:{human_query}\\nAVAILABLE_CARS:{available_cars}\"\n",
    "        ),\n",
    "    ]\n",
    ")\n",
    "\n",
    "chain = prompt | llm"
   ]
  },
  {
   "cell_type": "markdown",
   "id": "2f321e41",
   "metadata": {},
   "source": [
    "### Example query"
   ]
  },
  {
   "cell_type": "code",
   "execution_count": null,
   "id": "dbeb6f04",
   "metadata": {},
   "outputs": [],
   "source": [
    "query = \"I am looking for SUV and cheap cars with AC (order by price)\"\n",
    "available_cars = db_chain.run(query)\n",
    "resp = chain.invoke(\n",
    "    {\n",
    "        \"available_cars\": available_cars,\n",
    "        \"human_query\": query,\n",
    "    }\n",
    ")\n",
    "\n",
    "print(resp.content)"
   ]
  }
 ],
 "metadata": {
  "interpreter": {
   "hash": "b32d87a63d8db7c85c2cdcad4f6cc8b712ca746d91e154ea0cd737b1ef7d67c6"
  },
  "kernelspec": {
   "display_name": "Python 3.11.3 ('venv': venv)",
   "language": "python",
   "name": "python3"
  },
  "language_info": {
   "codemirror_mode": {
    "name": "ipython",
    "version": 3
   },
   "file_extension": ".py",
   "mimetype": "text/x-python",
   "name": "python",
   "nbconvert_exporter": "python",
   "pygments_lexer": "ipython3",
   "version": "3.11.3"
  }
 },
 "nbformat": 4,
 "nbformat_minor": 5
}
