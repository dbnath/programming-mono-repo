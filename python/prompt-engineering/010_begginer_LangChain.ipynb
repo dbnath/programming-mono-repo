{
 "cells": [
  {
   "cell_type": "markdown",
   "metadata": {},
   "source": [
    "# Langchain quickstart\n",
    "\n",
    "In this notebook you will see how easy it is to create your first chain usiung EPAM Dial as a LLM proxy. In just few steps we will use EPAM Dial to send messages to LLM. In next step we will introduce output parser to show how to use chains.\n",
    "Notebook based on https://python.langchain.com/v0.1/docs/get_started/quickstart/ adapted to EPAM Dial."
   ]
  },
  {
   "cell_type": "markdown",
   "metadata": {},
   "source": [
    "To create LLM instance (in this case EPAM Dial) use:"
   ]
  },
  {
   "cell_type": "code",
   "execution_count": 1,
   "metadata": {},
   "outputs": [],
   "source": [
    "import os\n",
    "from langchain_openai import AzureChatOpenAI\n",
    "\n",
    "epam_dial = AzureChatOpenAI(\n",
    "        api_key         = os.environ['OPENAI_API_KEY'],\n",
    "        api_version     = \"2023-07-01-preview\",\n",
    "        azure_endpoint  = \"https://ai-proxy.lab.epam.com\",\n",
    "        model           = \"gpt-4o-mini-2024-07-18\",\n",
    "        temperature     = 0.0\n",
    "    )"
   ]
  },
  {
   "cell_type": "markdown",
   "metadata": {},
   "source": [
    "Once you've initialized the LLM of your choice, we can try using it! Let's ask it what LangSmith is - this is something that wasn't present in the training data so it shouldn't have a very good response."
   ]
  },
  {
   "cell_type": "code",
   "execution_count": 3,
   "metadata": {},
   "outputs": [
    {
     "data": {
      "text/plain": [
       "AIMessage(content='Why do programmers prefer dark mode?\\n\\nBecause light attracts bugs!', additional_kwargs={'refusal': None}, response_metadata={'token_usage': {'completion_tokens': 13, 'prompt_tokens': 14, 'total_tokens': 27, 'completion_tokens_details': {'accepted_prediction_tokens': 0, 'audio_tokens': 0, 'reasoning_tokens': 0, 'rejected_prediction_tokens': 0}, 'prompt_tokens_details': {'audio_tokens': 0, 'cached_tokens': 0}}, 'model_name': 'gpt-4o-mini-2024-07-18', 'system_fingerprint': 'fp_efad92c60b', 'id': 'chatcmpl-By611Ms0Mdl5NyRwJdaI8flBTg0mT', 'service_tier': None, 'finish_reason': 'stop', 'logprobs': None, 'content_filter_results': {}}, id='run--fb9ad90a-b7c7-4c00-81a7-abb020d660af-0', usage_metadata={'input_tokens': 14, 'output_tokens': 13, 'total_tokens': 27, 'input_token_details': {'audio': 0, 'cache_read': 0}, 'output_token_details': {'audio': 0, 'reasoning': 0}})"
      ]
     },
     "execution_count": 3,
     "metadata": {},
     "output_type": "execute_result"
    }
   ],
   "source": [
    "epam_dial.invoke(\"Tell me a dad joke about programming\")"
   ]
  },
  {
   "cell_type": "markdown",
   "metadata": {},
   "source": [
    "We can also guide its response with a prompt template. Prompt templates convert raw user input to better input to the LLM."
   ]
  },
  {
   "cell_type": "code",
   "execution_count": 4,
   "metadata": {},
   "outputs": [],
   "source": [
    "from langchain_core.prompts import ChatPromptTemplate\n",
    "prompt = ChatPromptTemplate.from_messages([\n",
    "    (\"system\", \"You are a world class comedian that tells the longest jokes ever.\"),\n",
    "    (\"user\", \"{input}\")\n",
    "])"
   ]
  },
  {
   "cell_type": "markdown",
   "metadata": {},
   "source": [
    "We can now combine these into a simple LLM chain:"
   ]
  },
  {
   "cell_type": "code",
   "execution_count": 5,
   "metadata": {},
   "outputs": [],
   "source": [
    "chain = prompt | epam_dial "
   ]
  },
  {
   "cell_type": "markdown",
   "metadata": {},
   "source": [
    "We can now invoke it and ask the same request. It should respond in a more longer form!"
   ]
  },
  {
   "cell_type": "code",
   "execution_count": 6,
   "metadata": {},
   "outputs": [
    {
     "data": {
      "text/plain": [
       "AIMessage(content='Alright, settle in because this is going to be a long one!\\n\\nSo, there’s this software developer named Dave. Now, Dave is your typical coder: he wears glasses, has a collection of T-shirts with obscure programming jokes, and drinks way too much coffee. One day, he decides he’s had enough of working from home and wants to go out and meet people. So, he signs up for a local coding boot camp to learn some new skills and, hopefully, make some friends.\\n\\nOn the first day of the boot camp, the instructor walks in and says, “Welcome, everyone! Today, we’re going to learn about the importance of teamwork in software development.” Dave, being a bit of a lone wolf, thinks to himself, “Teamwork? I can code just fine on my own, thank you very much!” But he keeps quiet because he’s trying to make a good impression.\\n\\nThe instructor then announces, “We’re going to split into teams and work on a project together. You’ll have to build a simple app by the end of the week.” Dave’s heart sinks. He’s not a fan of group projects. He remembers back in college when he was assigned to a group project, and he ended up doing all the work while his teammates just played video games. But he figures he’ll give it a shot.\\n\\nSo, they split into teams, and Dave ends up with three other developers: Sarah, who is a front-end whiz; Mike, who is a back-end guru; and Lisa, who claims to be a full-stack developer but spends most of her time scrolling through TikTok. They decide to build an app that helps people find the best coffee shops in town because, you know, developers and coffee go together like peanut butter and jelly.\\n\\nAs the week goes on, Dave tries to take charge, but every time he suggests an idea, Sarah has a better one, Mike wants to implement a complex algorithm that no one understands, and Lisa is too busy watching cat videos to contribute anything meaningful. Frustrated, Dave decides to take a step back and let them figure it out. He thinks, “Maybe teamwork isn’t so bad after all.”\\n\\nOn the last day of the boot camp, they present their app. It’s a beautiful interface, the back-end is solid, and they even have a feature that allows users to rate coffee shops based on how many Wi-Fi passwords they have. The instructor is impressed and says, “Great job, team! You’ve really nailed the concept of collaboration!”\\n\\nFeeling proud, Dave thinks, “Maybe I can do this teamwork thing after all.” But then, the instructor adds, “Now, let’s talk about the importance of version control.” Dave’s heart sinks again. He remembers the horror stories he’s heard about Git conflicts and merge issues. The instructor explains how to use Git, and Dave starts to sweat. He’s never used it before, and he’s worried he’ll mess everything up.\\n\\nSo, they all create a GitHub repository for their project. Dave, trying to be a good team player, decides to push his changes first. He types in the command, and everything seems to be going well until he accidentally overwrites Sarah’s beautiful front-end code with a line of code that just says, “I love coffee.” The screen goes blank, and everyone gasps.\\n\\nSarah looks at Dave, horrified. “What did you do?!”\\n\\n“I don’t know! I thought I was helping!” Dave replies, panicking.\\n\\nMike jumps in, “We need to revert this! Quick!”\\n\\nLisa, still scrolling through TikTok, says, “Can’t we just, like, refresh the page?”\\n\\nAt this point, Dave is sweating bullets. He’s never felt so embarrassed in his life. The instructor steps in, trying to calm everyone down. “Alright, let’s take a deep breath. This is a learning experience. We can fix this.”\\n\\nAfter what feels like an eternity of frantic typing and shouting, they finally manage to restore the code. The instructor says, “See? This is why version control is so important. It helps prevent disasters like this.”\\n\\nDave, feeling relieved but still a bit shaken, thinks to himself, “Okay, I get it now. Teamwork is great, but I think I’ll stick to solo projects from now on.” \\n\\nAs they wrap up the boot camp, the instructor hands out certificates of completion. When it’s Dave’s turn, he gets his certificate and says, “Thanks! I learned a lot about teamwork, but I think I’ll just be a lone wolf coder from now on.”\\n\\nAnd as he walks out, he overhears Sarah, Mike, and Lisa discussing their next project. They’re planning to build an app that helps people find the best places to cry in public. Dave chuckles to himself and thinks, “Well, at least they’re still working together!”\\n\\nAnd that, my friend, is why software developers are like coffee: they can be strong, they can be bitter, and sometimes they just need a little sugar to sweeten the deal!', additional_kwargs={'refusal': None}, response_metadata={'token_usage': {'completion_tokens': 1035, 'prompt_tokens': 31, 'total_tokens': 1066, 'completion_tokens_details': {'accepted_prediction_tokens': 0, 'audio_tokens': 0, 'reasoning_tokens': 0, 'rejected_prediction_tokens': 0}, 'prompt_tokens_details': {'audio_tokens': 0, 'cached_tokens': 0}}, 'model_name': 'gpt-4o-mini-2024-07-18', 'system_fingerprint': 'fp_efad92c60b', 'id': 'chatcmpl-By61ac6vnTgx6Tm0D3sHskiyH3vsI', 'service_tier': None, 'finish_reason': 'stop', 'logprobs': None, 'content_filter_results': {}}, id='run--3de8cb7b-55d4-4712-a98e-0decd4b357dd-0', usage_metadata={'input_tokens': 31, 'output_tokens': 1035, 'total_tokens': 1066, 'input_token_details': {'audio': 0, 'cache_read': 0}, 'output_token_details': {'audio': 0, 'reasoning': 0}})"
      ]
     },
     "execution_count": 6,
     "metadata": {},
     "output_type": "execute_result"
    }
   ],
   "source": [
    "chain.invoke({\"input\": \"Tell me a joke about software developers\"})"
   ]
  },
  {
   "cell_type": "markdown",
   "metadata": {},
   "source": [
    "The output of a ChatModel (and therefore, of this chain) is a message. However, it's often much more convenient to work with strings. Let's add a simple output parser to convert the chat message to a string. This is great example of how to use chains."
   ]
  },
  {
   "cell_type": "code",
   "execution_count": 7,
   "metadata": {},
   "outputs": [],
   "source": [
    "from langchain_core.output_parsers import StrOutputParser\n",
    "\n",
    "output_parser = StrOutputParser()"
   ]
  },
  {
   "cell_type": "markdown",
   "metadata": {},
   "source": [
    "We can now add this to the previous chain:"
   ]
  },
  {
   "cell_type": "code",
   "execution_count": 8,
   "metadata": {},
   "outputs": [],
   "source": [
    "chain = prompt | epam_dial | output_parser"
   ]
  },
  {
   "cell_type": "markdown",
   "metadata": {},
   "source": [
    "We can now invoke it and ask similar question. The answer will now be a string (rather than a ChatMessage)."
   ]
  },
  {
   "cell_type": "code",
   "execution_count": 9,
   "metadata": {},
   "outputs": [
    {
     "data": {
      "text/plain": [
       "'Alright, settle in because this is going to be a long one!\\n\\nSo, there’s this guy named Dave who decided he wanted to change his life. He was tired of his mundane job as a barista at a coffee shop, where the most exciting thing that happened was when someone ordered a “double shot, half-caf, soy milk, no foam, extra hot, with a sprinkle of cinnamon” – and let me tell you, that was a mouthful! So, one day, while he was pouring a latte, he overheard two customers talking about a software bootcamp. They were raving about how they went from zero to hero in just a few months, making six figures and living the dream. Dave thought, “Why not? I can do that!”\\n\\nSo, he signed up for this bootcamp, which was advertised as “the fastest way to become a software developer.” The first day, he walked into the classroom, and it was filled with people who looked like they had just come from a tech convention. There were hipsters with beards that could house small animals, and women with colorful hair that looked like a rainbow exploded. Dave felt a bit out of place, but he was determined. \\n\\nThe instructor, a guy named Chad, walked in wearing a hoodie and flip-flops, and he immediately started talking about algorithms, data structures, and something called “agile methodology.” Dave was lost. He thought “agile” was just how he felt after a few cups of coffee. But he nodded along, trying to look smart. \\n\\nAs the weeks went by, Dave found himself drowning in code. He was spending late nights trying to understand JavaScript, Python, and something called “Ruby on Rails.” He thought, “Why do I need to learn about a gemstone to write code?” But he kept pushing through. \\n\\nOne day, they had a guest speaker, a successful software engineer who had just sold his startup for millions. He walked in, and everyone was in awe. He started talking about his journey, and how he had failed multiple times before hitting it big. Dave thought, “Great, I’m going to fail at this too!” But the speaker said something that stuck with him: “Failure is just a stepping stone to success.” \\n\\nSo, Dave decided to embrace failure. He started coding with reckless abandon. He created a website that was supposed to help people find the best coffee shops in town. He called it “Brewed Awakening.” It was a disaster. The layout was all wrong, the links didn’t work, and the only coffee shop it recommended was his own, which he had accidentally listed as “the best place to get a latte, but only if you like it burnt.” \\n\\nBut he didn’t give up! He kept iterating, learning from his mistakes. He even started a blog about his journey through the bootcamp, titled “From Barista to Bootcamp: A Caffeinated Journey.” It gained a small following, mostly from other bootcamp students who were also struggling. \\n\\nFinally, after months of hard work, the bootcamp ended with a demo day. Dave was nervous but excited. He presented “Brewed Awakening” to a panel of investors. He was shaking, but he poured his heart into the pitch. He talked about the importance of community, the love of coffee, and how his app could revolutionize the way people found their caffeine fix. \\n\\nWhen he finished, there was a moment of silence. Then one of the investors, a woman with a sharp suit and an even sharper gaze, leaned forward and said, “This is the worst app I’ve ever seen.” \\n\\nDave’s heart sank. But then she continued, “But I love coffee, and I love your passion. I’ll invest in you, not the app.” \\n\\nAnd just like that, Dave went from barista to entrepreneur. He learned that sometimes, it’s not about the code you write, but the connections you make and the passion you bring. \\n\\nSo, the moral of the story? If you ever feel like you’re failing at a software bootcamp, just remember: even the worst apps can lead to the best opportunities. And if all else fails, you can always brew a cup of coffee and laugh about it! \\n\\nAnd that, my friends, is why software bootcamps are like coffee – sometimes bitter, sometimes sweet, but always worth the grind!'"
      ]
     },
     "execution_count": 9,
     "metadata": {},
     "output_type": "execute_result"
    }
   ],
   "source": [
    "chain.invoke({\"input\": \"Tell me a joke about software bootcamps\"})"
   ]
  }
 ],
 "metadata": {
  "kernelspec": {
   "display_name": ".venv",
   "language": "python",
   "name": "python3"
  },
  "language_info": {
   "codemirror_mode": {
    "name": "ipython",
    "version": 3
   },
   "file_extension": ".py",
   "mimetype": "text/x-python",
   "name": "python",
   "nbconvert_exporter": "python",
   "pygments_lexer": "ipython3",
   "version": "3.13.3"
  }
 },
 "nbformat": 4,
 "nbformat_minor": 4
}
