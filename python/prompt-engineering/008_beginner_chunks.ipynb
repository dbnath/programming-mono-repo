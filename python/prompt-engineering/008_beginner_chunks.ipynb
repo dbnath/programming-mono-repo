{
 "cells": [
  {
   "cell_type": "markdown",
   "id": "df82c454",
   "metadata": {},
   "source": [
    "# Chunks"
   ]
  },
  {
   "cell_type": "markdown",
   "id": "87bd15bb",
   "metadata": {},
   "source": [
    "Author: Pavel Agurov, pavel_agurov@epam.com"
   ]
  },
  {
   "attachments": {
    "image.png": {
     "image/png": "[encoded data removed]"
    }
   },
   "cell_type": "markdown",
   "id": "be0408d6",
   "metadata": {},
   "source": [
    "Even with the very large context window of modern models (1-2M tokens), sending the entire document to the model is expensive and time consuming. And it's not always efficient - model works good for first and last parts of text and can lost focus on the middle (see articles https://blog.langchain.dev/multi-needle-in-a-haystack/ and https://docs.google.com/presentation/d/1mJUiPBdtf58NfuSEQ7pVSEQ2Oqmek7F1i4gBwR6JDss/edit#slide=id.g26c0cb8dc66_0_92).\n",
    "\n",
    "The idea is to somehow split the text into chunks (we'll call it a \"chunk\") and use embedding-based similarity search to find only the relevant chunks and send them to the model.\n",
    "\n",
    "![image.png](attachment:image.png)\n",
    "\n",
    "\n",
    "Chunk strategy is very complex problem and there is no one global solution for all cases.\n",
    "\n",
    "Let's see some examples and ideas.\n"
   ]
  },
  {
   "cell_type": "markdown",
   "id": "6cac0fd2",
   "metadata": {},
   "source": [
    "## Preparation"
   ]
  },
  {
   "cell_type": "code",
   "execution_count": null,
   "id": "c27bf7b8",
   "metadata": {},
   "outputs": [],
   "source": [
    "%pip install openai > /dev/null\n",
    "%pip install tiktoken > /dev/null\n",
    "%pip install langchain > /dev/null\n",
    "%pip install langchain_openai > /dev/null\n",
    "%pip install langchain_core > /dev/null\n",
    "%pip install langchain_community > /dev/null\n",
    "%pip install langchain_text_splitters > /dev/null\n",
    "%pip install sentence-transformers > /dev/null\n",
    "%pip install beautifulsoup4 > /dev/null"
   ]
  },
  {
   "cell_type": "code",
   "execution_count": 56,
   "id": "b5e7c8ac",
   "metadata": {},
   "outputs": [],
   "source": [
    "import os\n",
    "from langchain_openai.embeddings.azure import AzureOpenAIEmbeddings\n",
    "\n",
    "# your GPT key should be in OPENAI_API_KEY environment variable\n",
    "openai_ada_embeddings = AzureOpenAIEmbeddings(\n",
    "    model          =\"text-embedding-ada-002\",\n",
    "    api_key        = os.environ['OPENAI_API_KEY'],\n",
    "    azure_endpoint = \"https://ai-proxy.lab.epam.com\",\n",
    ")"
   ]
  },
  {
   "cell_type": "code",
   "execution_count": 57,
   "id": "c442c5be",
   "metadata": {},
   "outputs": [],
   "source": [
    "from langchain_community.embeddings import SentenceTransformerEmbeddings\n",
    "\n",
    "sbert_embeddings = SentenceTransformerEmbeddings(\n",
    "    model_name= 'sentence-transformers/all-MiniLM-L6-v2',\n",
    "    model_kwargs={\"device\": \"cpu\"}\n",
    ")"
   ]
  },
  {
   "cell_type": "code",
   "execution_count": 58,
   "id": "a3f4142e",
   "metadata": {},
   "outputs": [],
   "source": [
    "from sklearn.metrics.pairwise import cosine_similarity\n",
    "\n",
    "def cosine_sentences(emd, s1, s2):\n",
    "    v1 = emd.embed_documents([s1])[0]\n",
    "    v2 = emd.embed_documents([s2])[0]\n",
    "    return cosine_similarity([v1], [v2])[0][0]"
   ]
  },
  {
   "cell_type": "code",
   "execution_count": 11,
   "id": "c4c922f9",
   "metadata": {},
   "outputs": [],
   "source": [
    "import os\n",
    "import textwrap\n",
    "from langchain_core.prompts import ChatPromptTemplate\n",
    "from langchain_core.output_parsers import StrOutputParser\n",
    "from langchain_openai import AzureChatOpenAI\n",
    "\n",
    "epam_dial = AzureChatOpenAI(\n",
    "        api_key         = os.environ['OPENAI_API_KEY'],\n",
    "        api_version     = \"2023-07-01-preview\",\n",
    "        azure_endpoint  = \"https://ai-proxy.lab.epam.com\",\n",
    "        model           = \"gpt-4o-mini-2024-07-18\",\n",
    "        temperature     = 0.0\n",
    "    )"
   ]
  },
  {
   "cell_type": "markdown",
   "id": "835209c3",
   "metadata": {},
   "source": [
    "## Optimal chunk size: similarity of small chunks"
   ]
  },
  {
   "cell_type": "markdown",
   "id": "b4f2b5af",
   "metadata": {},
   "source": [
    "The first question is to find the optimal size of chunk. A chunk can't be too big - we will have not good similarity, but chunk can't be too small - we can lost critical details when we will use chunks. Let's check it on simple example."
   ]
  },
  {
   "cell_type": "code",
   "execution_count": 45,
   "id": "7edbf2bf",
   "metadata": {},
   "outputs": [
    {
     "name": "stdout",
     "output_type": "stream",
     "text": [
      "789\n"
     ]
    }
   ],
   "source": [
    "# text copied from https://www.inclusion-europe.eu/helena-dalli-unfortunately-many-people-still-think-that-institutions-are-safe-places-this-is-simply-not-true/\n",
    "\n",
    "text = \"\"\"\n",
    "“'Institutional care' is a contradiction in terms. No institutional care is better than community-based care, \n",
    "family care, or personal care.” This is what European Commissioner for Equality Helena Dalli said yesterday at the “Towards inclusion” conference, \n",
    "organised by the European Expert Group on the Transition from Institutional to Community-based Care (EEG) and attended by more than 200 invited participants. \n",
    "She added that “unfortunately, many people still think institutions are safe places. They believe that they protect children or people with disabilities, \n",
    "especially people with intellectual disabilities, from the outside world. But this is simply not true. People have a right to, and enjoy, living independently \n",
    "and in a community - it is where they truly flourish.”\n",
    "\"\"\"\n",
    "\n",
    "print(len(text))"
   ]
  },
  {
   "cell_type": "markdown",
   "id": "820dea1c",
   "metadata": {},
   "source": [
    "Let's check similarity between full text, part of the text and sentences from this text. Of course, this text is not very long, but we only want to show the basic idea - similarity of sentence can be better than full text."
   ]
  },
  {
   "cell_type": "code",
   "execution_count": 60,
   "id": "9b1ce719",
   "metadata": {},
   "outputs": [
    {
     "name": "stdout",
     "output_type": "stream",
     "text": [
      "Similarity test AzureOpenAIEmbeddings\n",
      "Similarity between part of the text and topic: 0.81\n",
      "Similarity between sentence 0 and topic: 0.79\n",
      "Similarity between sentence 1 and topic: 0.76\n",
      "Similarity between sentence 2 and topic: 0.78\n",
      "Similarity between sentence 3 and topic: 0.77\n",
      "Similarity between sentence 4 and topic: 0.84\n",
      "Similarity between sentence 5 and topic: 0.71\n",
      "Similarity between sentence 6 and topic: 0.76\n",
      "Similarity between sentence 7 and topic: 0.78\n"
     ]
    }
   ],
   "source": [
    "def print_similarity_test(embedding):\n",
    "    print(f\"Similarity test {embedding.__class__.__name__}\")\n",
    "    topic = \"children protection\"\n",
    "\n",
    "    s = cosine_sentences(embedding, text, topic)\n",
    "    print(f\"Similarity between part of the text and topic: {s:.2f}\")\n",
    "\n",
    "    sentences = text.split(\".\")\n",
    "    for i, sentence in enumerate(sentences):\n",
    "        s = cosine_sentences(embedding, sentence, topic)\n",
    "        print(f\"Similarity between sentence {i} and topic: {s:.2f}\")\n",
    "        \n",
    "print_similarity_test(openai_ada_embeddings)"
   ]
  },
  {
   "cell_type": "markdown",
   "id": "8857badd",
   "metadata": {},
   "source": [
    "And the same for SBERT embedding:"
   ]
  },
  {
   "cell_type": "code",
   "execution_count": 61,
   "id": "086f3f80",
   "metadata": {},
   "outputs": [
    {
     "name": "stdout",
     "output_type": "stream",
     "text": [
      "Similarity test HuggingFaceEmbeddings\n",
      "Similarity between part of the text and topic: 0.24\n",
      "Similarity between sentence 0 and topic: 0.09\n",
      "Similarity between sentence 1 and topic: 0.16\n",
      "Similarity between sentence 2 and topic: 0.16\n",
      "Similarity between sentence 3 and topic: 0.21\n",
      "Similarity between sentence 4 and topic: 0.48\n",
      "Similarity between sentence 5 and topic: 0.01\n",
      "Similarity between sentence 6 and topic: 0.14\n",
      "Similarity between sentence 7 and topic: 0.15\n"
     ]
    }
   ],
   "source": [
    "print_similarity_test(sbert_embeddings)"
   ]
  },
  {
   "cell_type": "markdown",
   "id": "24915a0a",
   "metadata": {},
   "source": [
    "The best match is sentense 4."
   ]
  },
  {
   "cell_type": "code",
   "execution_count": 62,
   "id": "54971725",
   "metadata": {},
   "outputs": [
    {
     "name": "stdout",
     "output_type": "stream",
     "text": [
      " They believe that they protect children or people with disabilities, \n",
      "especially people with intellectual disabilities, from the outside world\n"
     ]
    }
   ],
   "source": [
    "sentence4 = text.split(\".\")[4]\n",
    "print(sentence4)"
   ]
  },
  {
   "cell_type": "markdown",
   "id": "d35021ad",
   "metadata": {},
   "source": [
    "As result, we can say that optimal chunk size depends on embedding, but short text has better similarity. Also you can see that OpenAI embedding works much better for long text than SBET. It's expected, because openAI has longer vector."
   ]
  },
  {
   "cell_type": "markdown",
   "id": "080aefcc",
   "metadata": {},
   "source": [
    "## How to split text"
   ]
  },
  {
   "cell_type": "markdown",
   "id": "00064be2",
   "metadata": {},
   "source": [
    "There are many strategies for breaking up text into chunks. Unfortunately, there is no single best strategy.\n",
    "\n",
    "We can split text based on different strategies, but all of them have pros and cosn.\n",
    "- Fixed size chunking: \n",
    "    - simple split by count of chars\n",
    "    - simple split by count of tokens\n",
    "- Sentence-Based chunking:\n",
    "    - split by sentenses\n",
    "    - split by paragraphs\n",
    "    - Recursive character splitter (split more than one separator)\n",
    "- Content-based chucking:\n",
    "    - split by special tags (HTML tags, LaTeX, markdown)\n",
    "    - based on programming language syntax\n",
    "- Semantic-based chunking (like RAPTOR)\n",
    "\n",
    "Looks like simple? In fact - not so easy. For example, we can divide text into sentences using delimiters .!?.  But in German the dot is part of the date or can be a date separator: \"20. Juni\" or \"20.06.2024\". It means we can't just split by the dot char, we should apply additional rules and use NLP.\n",
    "\n",
    "Semantic chunker dynamically creates the breakpoint between paragraphs or sentences based on embedding similarity. This ensures that each \"chunk\" contains semantically cohesive sentences. It works good for fictions, but doesn't work for \"uniform\" text like financial statements.\n",
    "\n",
    "On top of the text division, we can add an overlap of chunks - the chunks will have a common part. This allows us to maintain the connection between chunks."
   ]
  },
  {
   "cell_type": "code",
   "execution_count": 66,
   "id": "f29c70b8",
   "metadata": {},
   "outputs": [
    {
     "name": "stdout",
     "output_type": "stream",
     "text": [
      "1\n"
     ]
    }
   ],
   "source": [
    "from langchain_text_splitters import RecursiveCharacterTextSplitter\n",
    "from langchain_core.documents import Document\n",
    "\n",
    "# we will split text by paragraphs\n",
    "text_splitter_by_paragpaph = RecursiveCharacterTextSplitter(\n",
    "    chunk_size      = 100,\n",
    "    chunk_overlap   = 0,\n",
    "    separators      = [\"\\n\\n\"],\n",
    "    keep_separator  = True,\n",
    "    length_function = len,\n",
    "    is_separator_regex=False,\n",
    "    add_start_index = True\n",
    ")\n",
    "\n",
    "chunks = text_splitter_by_paragpaph.split_documents([Document(text)])\n",
    "print(len(chunks))\n"
   ]
  },
  {
   "cell_type": "code",
   "execution_count": 67,
   "id": "fc8ae62f",
   "metadata": {},
   "outputs": [
    {
     "name": "stdout",
     "output_type": "stream",
     "text": [
      "8\n"
     ]
    }
   ],
   "source": [
    "from langchain_text_splitters import RecursiveCharacterTextSplitter\n",
    "from langchain_core.documents import Document\n",
    "\n",
    "# we will split text by sentences\n",
    "text_splitter_by_sentences = RecursiveCharacterTextSplitter(\n",
    "    chunk_size      = 100,\n",
    "    chunk_overlap   = 0,\n",
    "    separators      = [\".\", \"!\", \"?\", \"\\n\\n\"],\n",
    "    keep_separator  = True,\n",
    "    length_function = len,\n",
    "    is_separator_regex=False,\n",
    "    add_start_index = True\n",
    ")\n",
    "\n",
    "chunks = text_splitter_by_sentences.split_documents([Document(text)])\n",
    "print(len(chunks))"
   ]
  },
  {
   "cell_type": "markdown",
   "id": "6e0be01c",
   "metadata": {},
   "source": [
    "There are many splitters (https://api.python.langchain.com/en/latest/text_splitters_api_reference.html#). It can be splitter for concrete format (for example `MarkdownTextSplitter`) or with usage of extenal frameworks (ex. `SpacyTextSplitter`). You should find the best splitter depends on your data and expected performance. "
   ]
  },
  {
   "cell_type": "markdown",
   "id": "a8ecb04a",
   "metadata": {},
   "source": [
    "### Optimal chunk size: possible loss of information"
   ]
  },
  {
   "cell_type": "markdown",
   "id": "77678213",
   "metadata": {},
   "source": [
    "Let's check one more situation. For example, we want to create summary from relevant chunks and split the text into chunks not in the best way. We will build summary for full text and for part of it."
   ]
  },
  {
   "cell_type": "code",
   "execution_count": 49,
   "id": "7fc37a4a",
   "metadata": {},
   "outputs": [
    {
     "name": "stdout",
     "output_type": "stream",
     "text": [
      "European Commissioner for Equality Helena Dalli stated that institutional care\n",
      "is a contradiction and community-based care is preferable, as institutions do\n",
      "not provide true safety or independence for individuals with disabilities.\n",
      "\n"
     ]
    }
   ],
   "source": [
    "# create prompt from template with parameters\n",
    "prompt = ChatPromptTemplate.from_template(\"Create a summary as one sentense from provided text: {text}\")\n",
    "\n",
    "# create chain\n",
    "chain = prompt | epam_dial | StrOutputParser()\n",
    "\n",
    "# now we will provide parameters as dict\n",
    "summary_text = chain.invoke({\"text\" : text})\n",
    "\n",
    "# print result\n",
    "print(f'{textwrap.fill(summary_text, 80)}\\n')"
   ]
  },
  {
   "cell_type": "markdown",
   "id": "e232d595",
   "metadata": {},
   "source": [
    "Let's look at the words \"But this is simply not true\" at the end of the text and imagine that we only got part of the text for a summary."
   ]
  },
  {
   "cell_type": "code",
   "execution_count": 55,
   "id": "ad009d89",
   "metadata": {},
   "outputs": [
    {
     "name": "stdout",
     "output_type": "stream",
     "text": [
      ">>> Text:\n",
      "\n",
      "“'Institutional care' is a contradiction in terms. No institutional care is better than community-based care, \n",
      "family care, or personal care.” This is what European Commissioner for Equality Helena Dalli said yesterday at the “Towards inclusion” conference, \n",
      "organised by the European Expert Group on the Transition from Institutional to Community-based Care (EEG) and attended by more than 200 invited participants. \n",
      "She added that “unfortunately, many people still think institutions are safe places. They believe that they protect children or people with disabilities, \n",
      "especially people with intellectual disabilities, from t\n",
      ">>> Summary:\n",
      "harm, but in reality, community-based care is more effective and beneficial for\n",
      "individuals.\"\n",
      "\n"
     ]
    }
   ],
   "source": [
    "print(\">>> Text:\")\n",
    "print(text[:630])\n",
    "\n",
    "# now we will provide parameters as dict\n",
    "summary_text = chain.invoke({\"text\" : text[:630]})\n",
    "\n",
    "# print result\n",
    "print(\">>> Summary:\")\n",
    "print(f'{textwrap.fill(summary_text, 80)}\\n')"
   ]
  },
  {
   "cell_type": "markdown",
   "id": "75cd89ed",
   "metadata": {},
   "source": [
    "The result is completely opposite! So, we can say that we should break the text into parts, at least into paragraphs."
   ]
  },
  {
   "attachments": {
    "image-2.png": {
     "image/png": "[encoded data removed]"
    }
   },
   "cell_type": "markdown",
   "id": "e31a9e8b",
   "metadata": {},
   "source": [
    "# Hierarchical chunks\n",
    "\n",
    "We can use hierarchical chunking - use small chunks for similarity search, but big chunks for extraction. In this case we can solve issues with similarity and completeness of information. \n",
    "\n",
    "\n",
    "LlamaIndex framework has this functionality out of the box, but in general it's very easy to implemen in any framework.\n",
    "\n",
    "\n",
    "![image-2.png](attachment:image-2.png)"
   ]
  },
  {
   "cell_type": "markdown",
   "id": "6036464d",
   "metadata": {},
   "source": [
    "# Issue 1: headers"
   ]
  },
  {
   "cell_type": "markdown",
   "id": "e84d6fde",
   "metadata": {},
   "source": [
    "This situation usually happens with website pages - a block of text contains very short and specific information and does not repeat the information from the title.\n",
    "\n",
    "- Header 1: Passport\n",
    "    - [information about passort]\n",
    "    - Header 2: Cost\n",
    "        - here is information about cost\n",
    "- Header 1: Visa\n",
    "    - [information about visa]\n",
    "    - Header 2: Cost\n",
    "        - here is information about cost\n",
    "\n",
    "We split this text by headers and have 2 chunks. Both of them are about cost. First one is about cost of passport, second one is about cost of visa, but both of them can be found by similarity search and both of them have header \"cost\". Without information from header level 1 we can't restore context. But in simple scenario we have header 1 in another chunk.\n",
    "\n",
    "Solution is to store full header line into each chunk:\n",
    "\n",
    "- Chunk01. Header 1: Passport\n",
    "    - [information about passort]\n",
    "- Chunk02. Header 1: Passport >> Header 2: Cost\n",
    "    - here is information about cost\n",
    "- Chunk03. Header 1: Visa\n",
    "    - [information about visa]\n",
    "- Chunk04. Header 1: Visa >> Header 2: Cost\n",
    "    - here is information about cost\n",
    "\n",
    "Here we have 4 chunks, but each chunk has full relevant information about context."
   ]
  },
  {
   "cell_type": "code",
   "execution_count": 73,
   "id": "d4bf56b0",
   "metadata": {},
   "outputs": [
    {
     "name": "stdout",
     "output_type": "stream",
     "text": [
      "page_content='body text 1.1' metadata={'Header_1': 'header 1.1'}\n",
      "page_content='body text 1.2' metadata={'Header_1': 'header 1.1', 'Header_2': 'header 1.2'}\n",
      "page_content='body text 2.1' metadata={'Header_1': 'header 2.1'}\n",
      "page_content='body text 2.2' metadata={'Header_1': 'header 2.1', 'Header_2': 'header 2.2'}\n"
     ]
    }
   ],
   "source": [
    "from langchain_text_splitters import MarkdownHeaderTextSplitter\n",
    "\n",
    "md_text = \"\"\"\n",
    "# header 1.1\n",
    "  body text 1.1\n",
    "  ## header 1.2\n",
    "    body text 1.2\n",
    "# header 2.1\n",
    "  body text 2.1\n",
    "  ## header 2.2\n",
    "    body text 2.2\n",
    "\"\"\"\n",
    "\n",
    "headers_to_split_on = [\n",
    "    (\"#\"   , \"Header_1\"),\n",
    "    (\"##\"  , \"Header_2\")\n",
    "]\n",
    "\n",
    "\n",
    "markdown_splitter = MarkdownHeaderTextSplitter(\n",
    "    headers_to_split_on = headers_to_split_on,\n",
    "    strip_headers       = True # we will add headers manually\n",
    ")\n",
    "\n",
    "chunks = markdown_splitter.split_text(md_text)\n",
    "for ch in chunks:\n",
    "    print(ch)"
   ]
  },
  {
   "cell_type": "markdown",
   "id": "b47e7047",
   "metadata": {},
   "source": [
    "Now we can easy combine all headers into full header based on metadata."
   ]
  },
  {
   "cell_type": "code",
   "execution_count": 74,
   "id": "aef4a1ad",
   "metadata": {},
   "outputs": [
    {
     "name": "stdout",
     "output_type": "stream",
     "text": [
      "# header 1.1\n",
      "## header 1.1 > header 1.2\n",
      "# header 2.1\n",
      "## header 2.1 > header 2.2\n"
     ]
    }
   ],
   "source": [
    "_HEADER_SEPARATOR = \" > \"\n",
    "\n",
    "def build_md_header_line_by_metadata(metadata : dict[str, str]) -> str:\n",
    "    \"\"\"\n",
    "        Build one header line from the document metadata\n",
    "    \"\"\"\n",
    "    header_line_array = []\n",
    "    for i in range(1, 10): # no makes sense more than 10 headers\n",
    "        header_level_str = f\"Header_{i}\"\n",
    "        if header_level_str not in metadata:\n",
    "            break\n",
    "        header_line = metadata[header_level_str].strip()\n",
    "        header_line_array.append(header_line)\n",
    "    header_line_str = _HEADER_SEPARATOR.join(header_line_array)\n",
    "    header_md_prefix = \"#\" * len(header_line_array)\n",
    "    return f\"{header_md_prefix} {header_line_str}\"\n",
    "\n",
    "for ch in chunks:\n",
    "    print(build_md_header_line_by_metadata(ch.metadata))\n"
   ]
  },
  {
   "cell_type": "markdown",
   "id": "0db2c4d1",
   "metadata": {},
   "source": [
    "# Issue 2: pronouns and references"
   ]
  },
  {
   "cell_type": "markdown",
   "id": "f2497353",
   "metadata": {},
   "source": [
    "But even split by paragraphs does not always solve all problems with chunks. As another example, let's take a text that has two paragraphs. The first one talks about Elon Musk, and the second one uses a pronoun. If we divide the text into paragraph chunks and use the second chunk, then we will have no way to understand who the text is about."
   ]
  },
  {
   "cell_type": "markdown",
   "id": "04e67eea",
   "metadata": {},
   "source": [
    "# Conclusion\n",
    "\n",
    "Chunking is a very complex problem. The solution depends on the structure and type of texts - fiction, financial statements, contracts.\n",
    "\n",
    "There are another solutions - semantic chunking (like RAPTOR), fact extraction, knowledge graph etc., but it's out of this notebook.\n",
    "\n",
    "Additional complexity comes from tables and table headers. The table can be very long and even places on more than one page. It's also required additional processing (in ideal case - extraction from text into data table)."
   ]
  }
 ],
 "metadata": {
  "kernelspec": {
   "display_name": "Python 3 (ipykernel)",
   "language": "python",
   "name": "python3"
  },
  "language_info": {
   "codemirror_mode": {
    "name": "ipython",
    "version": 3
   },
   "file_extension": ".py",
   "mimetype": "text/x-python",
   "name": "python",
   "nbconvert_exporter": "python",
   "pygments_lexer": "ipython3",
   "version": "3.11.5"
  }
 },
 "nbformat": 4,
 "nbformat_minor": 5
}
